{
  "nbformat": 4,
  "nbformat_minor": 0,
  "metadata": {
    "colab": {
      "name": "kategorik.ipynb",
      "provenance": [],
      "authorship_tag": "ABX9TyOkWWjYvgx/lbJ6XiMZicxp",
      "include_colab_link": true
    },
    "kernelspec": {
      "name": "python3",
      "display_name": "Python 3"
    },
    "language_info": {
      "name": "python"
    }
  },
  "cells": [
    {
      "cell_type": "markdown",
      "metadata": {
        "id": "view-in-github",
        "colab_type": "text"
      },
      "source": [
        "<a href=\"https://colab.research.google.com/github/benvekedim/machine-learning-101/blob/main/kategorik.ipynb\" target=\"_parent\"><img src=\"https://colab.research.google.com/assets/colab-badge.svg\" alt=\"Open In Colab\"/></a>"
      ]
    },
    {
      "cell_type": "code",
      "execution_count": 1,
      "metadata": {
        "colab": {
          "base_uri": "https://localhost:8080/"
        },
        "id": "px2mXCpXeKTE",
        "outputId": "443e6e90-b70b-4225-cacc-8370f4a51883"
      },
      "outputs": [
        {
          "output_type": "stream",
          "name": "stdout",
          "text": [
            "    boy\n",
            "0   130\n",
            "1   125\n",
            "2   135\n",
            "3   133\n",
            "4   129\n",
            "5   180\n",
            "6   190\n",
            "7   175\n",
            "8   177\n",
            "9   185\n",
            "10  165\n",
            "11  155\n",
            "12  160\n",
            "13  162\n",
            "14  167\n",
            "15  174\n",
            "16  193\n",
            "17  187\n",
            "18  183\n",
            "19  159\n",
            "20  164\n",
            "21  166\n",
            "    boy  kilo\n",
            "0   130    30\n",
            "1   125    36\n",
            "2   135    34\n",
            "3   133    30\n",
            "4   129    38\n",
            "5   180    90\n",
            "6   190    80\n",
            "7   175    90\n",
            "8   177    60\n",
            "9   185   105\n",
            "10  165    55\n",
            "11  155    50\n",
            "12  160    58\n",
            "13  162    59\n",
            "14  167    62\n",
            "15  174    70\n",
            "16  193    90\n",
            "17  187    80\n",
            "18  183    88\n",
            "19  159    40\n",
            "20  164    66\n",
            "21  166    56\n"
          ]
        }
      ],
      "source": [
        "#kutuphaneler\n",
        "import numpy as np\n",
        "import matplotlib.pyplot as plt\n",
        "import pandas as pd\n",
        "\n",
        "#veri yukleme\n",
        "veriler = pd.read_csv('https://bilkav.com/eksikveriler.csv')\n",
        "#veriler\n",
        "\n",
        "#veri on isleme\n",
        "\n",
        "boy = veriler[['boy']]\n",
        "print(boy)\n",
        "\n",
        "boykilo = veriler[['boy','kilo']]\n",
        "print(boykilo)\n",
        "\n",
        "\n"
      ]
    },
    {
      "cell_type": "code",
      "source": [
        "class insan:\n",
        "    boy = 180\n",
        "    def kosmak(self,b):\n",
        "        return b + 10\n",
        "\n",
        "ali = insan()\n",
        "print(ali.boy)\n",
        "print(ali.kosmak(90))"
      ],
      "metadata": {
        "colab": {
          "base_uri": "https://localhost:8080/"
        },
        "id": "-jyXjNNZfSuO",
        "outputId": "7c70769c-6ef9-42b3-86ab-f65d1844dc99"
      },
      "execution_count": 2,
      "outputs": [
        {
          "output_type": "stream",
          "name": "stdout",
          "text": [
            "180\n",
            "100\n"
          ]
        }
      ]
    },
    {
      "cell_type": "code",
      "source": [
        "from sklearn.impute import SimpleImputer\n",
        "\n",
        "imputer = SimpleImputer(missing_values=np.nan, strategy='mean')\n",
        "\n",
        "Yas = veriler.iloc[:,1:4].values\n",
        "print(Yas)"
      ],
      "metadata": {
        "colab": {
          "base_uri": "https://localhost:8080/"
        },
        "id": "hX79b2QFfWsN",
        "outputId": "25fc0885-bf13-43c4-95ef-848527b6324d"
      },
      "execution_count": 3,
      "outputs": [
        {
          "output_type": "stream",
          "name": "stdout",
          "text": [
            "[[130.  30.  10.]\n",
            " [125.  36.  11.]\n",
            " [135.  34.  10.]\n",
            " [133.  30.   9.]\n",
            " [129.  38.  12.]\n",
            " [180.  90.  30.]\n",
            " [190.  80.  25.]\n",
            " [175.  90.  35.]\n",
            " [177.  60.  22.]\n",
            " [185. 105.  33.]\n",
            " [165.  55.  27.]\n",
            " [155.  50.  44.]\n",
            " [160.  58.  nan]\n",
            " [162.  59.  41.]\n",
            " [167.  62.  55.]\n",
            " [174.  70.  47.]\n",
            " [193.  90.  nan]\n",
            " [187.  80.  27.]\n",
            " [183.  88.  28.]\n",
            " [159.  40.  29.]\n",
            " [164.  66.  32.]\n",
            " [166.  56.  42.]]\n"
          ]
        }
      ]
    },
    {
      "cell_type": "code",
      "source": [
        "imputer = imputer.fit(Yas[:,1:4])\n",
        "Yas[:,1:4] = imputer.transform(Yas[:,1:4])\n",
        "print(Yas)\n"
      ],
      "metadata": {
        "colab": {
          "base_uri": "https://localhost:8080/"
        },
        "id": "zSagGPXffYsY",
        "outputId": "a8105814-d4bc-403f-dde5-04b7c8d9543d"
      },
      "execution_count": 4,
      "outputs": [
        {
          "output_type": "stream",
          "name": "stdout",
          "text": [
            "[[130.    30.    10.  ]\n",
            " [125.    36.    11.  ]\n",
            " [135.    34.    10.  ]\n",
            " [133.    30.     9.  ]\n",
            " [129.    38.    12.  ]\n",
            " [180.    90.    30.  ]\n",
            " [190.    80.    25.  ]\n",
            " [175.    90.    35.  ]\n",
            " [177.    60.    22.  ]\n",
            " [185.   105.    33.  ]\n",
            " [165.    55.    27.  ]\n",
            " [155.    50.    44.  ]\n",
            " [160.    58.    28.45]\n",
            " [162.    59.    41.  ]\n",
            " [167.    62.    55.  ]\n",
            " [174.    70.    47.  ]\n",
            " [193.    90.    28.45]\n",
            " [187.    80.    27.  ]\n",
            " [183.    88.    28.  ]\n",
            " [159.    40.    29.  ]\n",
            " [164.    66.    32.  ]\n",
            " [166.    56.    42.  ]]\n"
          ]
        }
      ]
    },
    {
      "cell_type": "code",
      "source": [
        "veriler.head()"
      ],
      "metadata": {
        "colab": {
          "base_uri": "https://localhost:8080/",
          "height": 206
        },
        "id": "qzmTUKBofxFK",
        "outputId": "f537048d-6b06-4a16-80f4-d41fd468d4fb"
      },
      "execution_count": 6,
      "outputs": [
        {
          "output_type": "execute_result",
          "data": {
            "text/plain": [
              "  ulke  boy  kilo   yas cinsiyet\n",
              "0   tr  130    30  10.0        e\n",
              "1   tr  125    36  11.0        e\n",
              "2   tr  135    34  10.0        k\n",
              "3   tr  133    30   9.0        k\n",
              "4   tr  129    38  12.0        e"
            ],
            "text/html": [
              "\n",
              "  <div id=\"df-0422ea0d-dbd7-40e1-a075-5dd0d195c6c9\">\n",
              "    <div class=\"colab-df-container\">\n",
              "      <div>\n",
              "<style scoped>\n",
              "    .dataframe tbody tr th:only-of-type {\n",
              "        vertical-align: middle;\n",
              "    }\n",
              "\n",
              "    .dataframe tbody tr th {\n",
              "        vertical-align: top;\n",
              "    }\n",
              "\n",
              "    .dataframe thead th {\n",
              "        text-align: right;\n",
              "    }\n",
              "</style>\n",
              "<table border=\"1\" class=\"dataframe\">\n",
              "  <thead>\n",
              "    <tr style=\"text-align: right;\">\n",
              "      <th></th>\n",
              "      <th>ulke</th>\n",
              "      <th>boy</th>\n",
              "      <th>kilo</th>\n",
              "      <th>yas</th>\n",
              "      <th>cinsiyet</th>\n",
              "    </tr>\n",
              "  </thead>\n",
              "  <tbody>\n",
              "    <tr>\n",
              "      <th>0</th>\n",
              "      <td>tr</td>\n",
              "      <td>130</td>\n",
              "      <td>30</td>\n",
              "      <td>10.0</td>\n",
              "      <td>e</td>\n",
              "    </tr>\n",
              "    <tr>\n",
              "      <th>1</th>\n",
              "      <td>tr</td>\n",
              "      <td>125</td>\n",
              "      <td>36</td>\n",
              "      <td>11.0</td>\n",
              "      <td>e</td>\n",
              "    </tr>\n",
              "    <tr>\n",
              "      <th>2</th>\n",
              "      <td>tr</td>\n",
              "      <td>135</td>\n",
              "      <td>34</td>\n",
              "      <td>10.0</td>\n",
              "      <td>k</td>\n",
              "    </tr>\n",
              "    <tr>\n",
              "      <th>3</th>\n",
              "      <td>tr</td>\n",
              "      <td>133</td>\n",
              "      <td>30</td>\n",
              "      <td>9.0</td>\n",
              "      <td>k</td>\n",
              "    </tr>\n",
              "    <tr>\n",
              "      <th>4</th>\n",
              "      <td>tr</td>\n",
              "      <td>129</td>\n",
              "      <td>38</td>\n",
              "      <td>12.0</td>\n",
              "      <td>e</td>\n",
              "    </tr>\n",
              "  </tbody>\n",
              "</table>\n",
              "</div>\n",
              "      <button class=\"colab-df-convert\" onclick=\"convertToInteractive('df-0422ea0d-dbd7-40e1-a075-5dd0d195c6c9')\"\n",
              "              title=\"Convert this dataframe to an interactive table.\"\n",
              "              style=\"display:none;\">\n",
              "        \n",
              "  <svg xmlns=\"http://www.w3.org/2000/svg\" height=\"24px\"viewBox=\"0 0 24 24\"\n",
              "       width=\"24px\">\n",
              "    <path d=\"M0 0h24v24H0V0z\" fill=\"none\"/>\n",
              "    <path d=\"M18.56 5.44l.94 2.06.94-2.06 2.06-.94-2.06-.94-.94-2.06-.94 2.06-2.06.94zm-11 1L8.5 8.5l.94-2.06 2.06-.94-2.06-.94L8.5 2.5l-.94 2.06-2.06.94zm10 10l.94 2.06.94-2.06 2.06-.94-2.06-.94-.94-2.06-.94 2.06-2.06.94z\"/><path d=\"M17.41 7.96l-1.37-1.37c-.4-.4-.92-.59-1.43-.59-.52 0-1.04.2-1.43.59L10.3 9.45l-7.72 7.72c-.78.78-.78 2.05 0 2.83L4 21.41c.39.39.9.59 1.41.59.51 0 1.02-.2 1.41-.59l7.78-7.78 2.81-2.81c.8-.78.8-2.07 0-2.86zM5.41 20L4 18.59l7.72-7.72 1.47 1.35L5.41 20z\"/>\n",
              "  </svg>\n",
              "      </button>\n",
              "      \n",
              "  <style>\n",
              "    .colab-df-container {\n",
              "      display:flex;\n",
              "      flex-wrap:wrap;\n",
              "      gap: 12px;\n",
              "    }\n",
              "\n",
              "    .colab-df-convert {\n",
              "      background-color: #E8F0FE;\n",
              "      border: none;\n",
              "      border-radius: 50%;\n",
              "      cursor: pointer;\n",
              "      display: none;\n",
              "      fill: #1967D2;\n",
              "      height: 32px;\n",
              "      padding: 0 0 0 0;\n",
              "      width: 32px;\n",
              "    }\n",
              "\n",
              "    .colab-df-convert:hover {\n",
              "      background-color: #E2EBFA;\n",
              "      box-shadow: 0px 1px 2px rgba(60, 64, 67, 0.3), 0px 1px 3px 1px rgba(60, 64, 67, 0.15);\n",
              "      fill: #174EA6;\n",
              "    }\n",
              "\n",
              "    [theme=dark] .colab-df-convert {\n",
              "      background-color: #3B4455;\n",
              "      fill: #D2E3FC;\n",
              "    }\n",
              "\n",
              "    [theme=dark] .colab-df-convert:hover {\n",
              "      background-color: #434B5C;\n",
              "      box-shadow: 0px 1px 3px 1px rgba(0, 0, 0, 0.15);\n",
              "      filter: drop-shadow(0px 1px 2px rgba(0, 0, 0, 0.3));\n",
              "      fill: #FFFFFF;\n",
              "    }\n",
              "  </style>\n",
              "\n",
              "      <script>\n",
              "        const buttonEl =\n",
              "          document.querySelector('#df-0422ea0d-dbd7-40e1-a075-5dd0d195c6c9 button.colab-df-convert');\n",
              "        buttonEl.style.display =\n",
              "          google.colab.kernel.accessAllowed ? 'block' : 'none';\n",
              "\n",
              "        async function convertToInteractive(key) {\n",
              "          const element = document.querySelector('#df-0422ea0d-dbd7-40e1-a075-5dd0d195c6c9');\n",
              "          const dataTable =\n",
              "            await google.colab.kernel.invokeFunction('convertToInteractive',\n",
              "                                                     [key], {});\n",
              "          if (!dataTable) return;\n",
              "\n",
              "          const docLinkHtml = 'Like what you see? Visit the ' +\n",
              "            '<a target=\"_blank\" href=https://colab.research.google.com/notebooks/data_table.ipynb>data table notebook</a>'\n",
              "            + ' to learn more about interactive tables.';\n",
              "          element.innerHTML = '';\n",
              "          dataTable['output_type'] = 'display_data';\n",
              "          await google.colab.output.renderOutput(dataTable, element);\n",
              "          const docLink = document.createElement('div');\n",
              "          docLink.innerHTML = docLinkHtml;\n",
              "          element.appendChild(docLink);\n",
              "        }\n",
              "      </script>\n",
              "    </div>\n",
              "  </div>\n",
              "  "
            ]
          },
          "metadata": {},
          "execution_count": 6
        }
      ]
    },
    {
      "cell_type": "code",
      "source": [
        "ulke = veriler.iloc[:,0:1].values\n",
        "print(ulke)"
      ],
      "metadata": {
        "colab": {
          "base_uri": "https://localhost:8080/"
        },
        "id": "ZOR0lFawfkhz",
        "outputId": "03493cb6-11d9-42b7-fe98-91bbc5202d21"
      },
      "execution_count": 5,
      "outputs": [
        {
          "output_type": "stream",
          "name": "stdout",
          "text": [
            "[['tr']\n",
            " ['tr']\n",
            " ['tr']\n",
            " ['tr']\n",
            " ['tr']\n",
            " ['tr']\n",
            " ['tr']\n",
            " ['tr']\n",
            " ['tr']\n",
            " ['us']\n",
            " ['us']\n",
            " ['us']\n",
            " ['us']\n",
            " ['us']\n",
            " ['us']\n",
            " ['fr']\n",
            " ['fr']\n",
            " ['fr']\n",
            " ['fr']\n",
            " ['fr']\n",
            " ['fr']\n",
            " ['fr']]\n"
          ]
        }
      ]
    },
    {
      "cell_type": "code",
      "source": [
        "veriler.iloc[:,0]"
      ],
      "metadata": {
        "colab": {
          "base_uri": "https://localhost:8080/"
        },
        "id": "N5xT8Hp4gMHr",
        "outputId": "db3b4a53-d961-4f9e-b72b-219260285823"
      },
      "execution_count": 8,
      "outputs": [
        {
          "output_type": "execute_result",
          "data": {
            "text/plain": [
              "0     tr\n",
              "1     tr\n",
              "2     tr\n",
              "3     tr\n",
              "4     tr\n",
              "5     tr\n",
              "6     tr\n",
              "7     tr\n",
              "8     tr\n",
              "9     us\n",
              "10    us\n",
              "11    us\n",
              "12    us\n",
              "13    us\n",
              "14    us\n",
              "15    fr\n",
              "16    fr\n",
              "17    fr\n",
              "18    fr\n",
              "19    fr\n",
              "20    fr\n",
              "21    fr\n",
              "Name: ulke, dtype: object"
            ]
          },
          "metadata": {},
          "execution_count": 8
        }
      ]
    },
    {
      "cell_type": "code",
      "source": [
        "from sklearn import preprocessing\n",
        "\n",
        "le = preprocessing.LabelEncoder()\n",
        "\n",
        "ulke[:,0] = le.fit_transform(veriler.iloc[:,0])\n",
        "\n",
        "print(ulke)"
      ],
      "metadata": {
        "colab": {
          "base_uri": "https://localhost:8080/"
        },
        "id": "Wk3QJmimfwWQ",
        "outputId": "e3b0eff0-fa23-47f9-8015-48bc81ac0226"
      },
      "execution_count": 9,
      "outputs": [
        {
          "output_type": "stream",
          "name": "stdout",
          "text": [
            "[[1]\n",
            " [1]\n",
            " [1]\n",
            " [1]\n",
            " [1]\n",
            " [1]\n",
            " [1]\n",
            " [1]\n",
            " [1]\n",
            " [2]\n",
            " [2]\n",
            " [2]\n",
            " [2]\n",
            " [2]\n",
            " [2]\n",
            " [0]\n",
            " [0]\n",
            " [0]\n",
            " [0]\n",
            " [0]\n",
            " [0]\n",
            " [0]]\n"
          ]
        }
      ]
    },
    {
      "cell_type": "code",
      "source": [
        "ohe = preprocessing.OneHotEncoder()\n",
        "ulke = ohe.fit_transform(ulke).toarray()\n",
        "print(ulke)"
      ],
      "metadata": {
        "colab": {
          "base_uri": "https://localhost:8080/"
        },
        "id": "CnsZg0CxgbGX",
        "outputId": "825a5e96-8afe-4acf-c526-e6fb202c5304"
      },
      "execution_count": 10,
      "outputs": [
        {
          "output_type": "stream",
          "name": "stdout",
          "text": [
            "[[0. 1. 0.]\n",
            " [0. 1. 0.]\n",
            " [0. 1. 0.]\n",
            " [0. 1. 0.]\n",
            " [0. 1. 0.]\n",
            " [0. 1. 0.]\n",
            " [0. 1. 0.]\n",
            " [0. 1. 0.]\n",
            " [0. 1. 0.]\n",
            " [0. 0. 1.]\n",
            " [0. 0. 1.]\n",
            " [0. 0. 1.]\n",
            " [0. 0. 1.]\n",
            " [0. 0. 1.]\n",
            " [0. 0. 1.]\n",
            " [1. 0. 0.]\n",
            " [1. 0. 0.]\n",
            " [1. 0. 0.]\n",
            " [1. 0. 0.]\n",
            " [1. 0. 0.]\n",
            " [1. 0. 0.]\n",
            " [1. 0. 0.]]\n"
          ]
        }
      ]
    },
    {
      "cell_type": "code",
      "source": [
        "# np unique ile ulke dizisine al\n",
        "# sırala : output ['fr','tr','us'] \n",
        "# LabelEncoder için fr:0  tr:1 us:2 label ver\n",
        "# OneHotEncoder için fr: [1,0,0], tr:[0,1,0] us:[0,0,1] label ver"
      ],
      "metadata": {
        "id": "PnOTGj8Ehii_"
      },
      "execution_count": null,
      "outputs": []
    },
    {
      "cell_type": "code",
      "source": [
        "veriler.head()"
      ],
      "metadata": {
        "colab": {
          "base_uri": "https://localhost:8080/",
          "height": 206
        },
        "id": "dwa_V_eviXGs",
        "outputId": "db39aaab-d456-481a-e1ca-1a796f022db4"
      },
      "execution_count": 11,
      "outputs": [
        {
          "output_type": "execute_result",
          "data": {
            "text/plain": [
              "  ulke  boy  kilo   yas cinsiyet\n",
              "0   tr  130    30  10.0        e\n",
              "1   tr  125    36  11.0        e\n",
              "2   tr  135    34  10.0        k\n",
              "3   tr  133    30   9.0        k\n",
              "4   tr  129    38  12.0        e"
            ],
            "text/html": [
              "\n",
              "  <div id=\"df-9196a0b7-d876-4e00-947e-9cbc414f584e\">\n",
              "    <div class=\"colab-df-container\">\n",
              "      <div>\n",
              "<style scoped>\n",
              "    .dataframe tbody tr th:only-of-type {\n",
              "        vertical-align: middle;\n",
              "    }\n",
              "\n",
              "    .dataframe tbody tr th {\n",
              "        vertical-align: top;\n",
              "    }\n",
              "\n",
              "    .dataframe thead th {\n",
              "        text-align: right;\n",
              "    }\n",
              "</style>\n",
              "<table border=\"1\" class=\"dataframe\">\n",
              "  <thead>\n",
              "    <tr style=\"text-align: right;\">\n",
              "      <th></th>\n",
              "      <th>ulke</th>\n",
              "      <th>boy</th>\n",
              "      <th>kilo</th>\n",
              "      <th>yas</th>\n",
              "      <th>cinsiyet</th>\n",
              "    </tr>\n",
              "  </thead>\n",
              "  <tbody>\n",
              "    <tr>\n",
              "      <th>0</th>\n",
              "      <td>tr</td>\n",
              "      <td>130</td>\n",
              "      <td>30</td>\n",
              "      <td>10.0</td>\n",
              "      <td>e</td>\n",
              "    </tr>\n",
              "    <tr>\n",
              "      <th>1</th>\n",
              "      <td>tr</td>\n",
              "      <td>125</td>\n",
              "      <td>36</td>\n",
              "      <td>11.0</td>\n",
              "      <td>e</td>\n",
              "    </tr>\n",
              "    <tr>\n",
              "      <th>2</th>\n",
              "      <td>tr</td>\n",
              "      <td>135</td>\n",
              "      <td>34</td>\n",
              "      <td>10.0</td>\n",
              "      <td>k</td>\n",
              "    </tr>\n",
              "    <tr>\n",
              "      <th>3</th>\n",
              "      <td>tr</td>\n",
              "      <td>133</td>\n",
              "      <td>30</td>\n",
              "      <td>9.0</td>\n",
              "      <td>k</td>\n",
              "    </tr>\n",
              "    <tr>\n",
              "      <th>4</th>\n",
              "      <td>tr</td>\n",
              "      <td>129</td>\n",
              "      <td>38</td>\n",
              "      <td>12.0</td>\n",
              "      <td>e</td>\n",
              "    </tr>\n",
              "  </tbody>\n",
              "</table>\n",
              "</div>\n",
              "      <button class=\"colab-df-convert\" onclick=\"convertToInteractive('df-9196a0b7-d876-4e00-947e-9cbc414f584e')\"\n",
              "              title=\"Convert this dataframe to an interactive table.\"\n",
              "              style=\"display:none;\">\n",
              "        \n",
              "  <svg xmlns=\"http://www.w3.org/2000/svg\" height=\"24px\"viewBox=\"0 0 24 24\"\n",
              "       width=\"24px\">\n",
              "    <path d=\"M0 0h24v24H0V0z\" fill=\"none\"/>\n",
              "    <path d=\"M18.56 5.44l.94 2.06.94-2.06 2.06-.94-2.06-.94-.94-2.06-.94 2.06-2.06.94zm-11 1L8.5 8.5l.94-2.06 2.06-.94-2.06-.94L8.5 2.5l-.94 2.06-2.06.94zm10 10l.94 2.06.94-2.06 2.06-.94-2.06-.94-.94-2.06-.94 2.06-2.06.94z\"/><path d=\"M17.41 7.96l-1.37-1.37c-.4-.4-.92-.59-1.43-.59-.52 0-1.04.2-1.43.59L10.3 9.45l-7.72 7.72c-.78.78-.78 2.05 0 2.83L4 21.41c.39.39.9.59 1.41.59.51 0 1.02-.2 1.41-.59l7.78-7.78 2.81-2.81c.8-.78.8-2.07 0-2.86zM5.41 20L4 18.59l7.72-7.72 1.47 1.35L5.41 20z\"/>\n",
              "  </svg>\n",
              "      </button>\n",
              "      \n",
              "  <style>\n",
              "    .colab-df-container {\n",
              "      display:flex;\n",
              "      flex-wrap:wrap;\n",
              "      gap: 12px;\n",
              "    }\n",
              "\n",
              "    .colab-df-convert {\n",
              "      background-color: #E8F0FE;\n",
              "      border: none;\n",
              "      border-radius: 50%;\n",
              "      cursor: pointer;\n",
              "      display: none;\n",
              "      fill: #1967D2;\n",
              "      height: 32px;\n",
              "      padding: 0 0 0 0;\n",
              "      width: 32px;\n",
              "    }\n",
              "\n",
              "    .colab-df-convert:hover {\n",
              "      background-color: #E2EBFA;\n",
              "      box-shadow: 0px 1px 2px rgba(60, 64, 67, 0.3), 0px 1px 3px 1px rgba(60, 64, 67, 0.15);\n",
              "      fill: #174EA6;\n",
              "    }\n",
              "\n",
              "    [theme=dark] .colab-df-convert {\n",
              "      background-color: #3B4455;\n",
              "      fill: #D2E3FC;\n",
              "    }\n",
              "\n",
              "    [theme=dark] .colab-df-convert:hover {\n",
              "      background-color: #434B5C;\n",
              "      box-shadow: 0px 1px 3px 1px rgba(0, 0, 0, 0.15);\n",
              "      filter: drop-shadow(0px 1px 2px rgba(0, 0, 0, 0.3));\n",
              "      fill: #FFFFFF;\n",
              "    }\n",
              "  </style>\n",
              "\n",
              "      <script>\n",
              "        const buttonEl =\n",
              "          document.querySelector('#df-9196a0b7-d876-4e00-947e-9cbc414f584e button.colab-df-convert');\n",
              "        buttonEl.style.display =\n",
              "          google.colab.kernel.accessAllowed ? 'block' : 'none';\n",
              "\n",
              "        async function convertToInteractive(key) {\n",
              "          const element = document.querySelector('#df-9196a0b7-d876-4e00-947e-9cbc414f584e');\n",
              "          const dataTable =\n",
              "            await google.colab.kernel.invokeFunction('convertToInteractive',\n",
              "                                                     [key], {});\n",
              "          if (!dataTable) return;\n",
              "\n",
              "          const docLinkHtml = 'Like what you see? Visit the ' +\n",
              "            '<a target=\"_blank\" href=https://colab.research.google.com/notebooks/data_table.ipynb>data table notebook</a>'\n",
              "            + ' to learn more about interactive tables.';\n",
              "          element.innerHTML = '';\n",
              "          dataTable['output_type'] = 'display_data';\n",
              "          await google.colab.output.renderOutput(dataTable, element);\n",
              "          const docLink = document.createElement('div');\n",
              "          docLink.innerHTML = docLinkHtml;\n",
              "          element.appendChild(docLink);\n",
              "        }\n",
              "      </script>\n",
              "    </div>\n",
              "  </div>\n",
              "  "
            ]
          },
          "metadata": {},
          "execution_count": 11
        }
      ]
    },
    {
      "cell_type": "code",
      "source": [
        "country = [i[0] for i in np.array(veriler)]\n",
        "unique_country = sorted(np.unique(country))\n",
        "unique_country "
      ],
      "metadata": {
        "colab": {
          "base_uri": "https://localhost:8080/"
        },
        "id": "lAo2mlUcicTe",
        "outputId": "3fe933c7-9ba4-4ef2-f92f-ffc12018c982"
      },
      "execution_count": 15,
      "outputs": [
        {
          "output_type": "execute_result",
          "data": {
            "text/plain": [
              "['fr', 'tr', 'us']"
            ]
          },
          "metadata": {},
          "execution_count": 15
        }
      ]
    },
    {
      "cell_type": "code",
      "source": [
        "# for i in country:\n",
        "#   print(i)"
      ],
      "metadata": {
        "id": "eAYH0bRPjfMx"
      },
      "execution_count": 19,
      "outputs": []
    },
    {
      "cell_type": "code",
      "source": [
        "def lab_encoder(veriler):\n",
        "  encoder = []\n",
        "\n",
        "  country = [i[0] for i in np.array(veriler)]\n",
        "  unique_country = sorted(np.unique(country))\n",
        "  for i in country:\n",
        "    if i == unique_country[0]:\n",
        "      encoder.append(0)\n",
        "    elif i == unique_country[1]:\n",
        "      encoder.append(1)\n",
        "    else:\n",
        "      encoder.append(2)\n",
        "  \n",
        "  return encoder\n",
        "\n",
        "lab_encoder(veriler)\n"
      ],
      "metadata": {
        "colab": {
          "base_uri": "https://localhost:8080/"
        },
        "id": "X7SF7Jwyi2fd",
        "outputId": "244dc652-b048-41d7-f884-10b68fa21a25"
      },
      "execution_count": 17,
      "outputs": [
        {
          "output_type": "execute_result",
          "data": {
            "text/plain": [
              "[1, 1, 1, 1, 1, 1, 1, 1, 1, 2, 2, 2, 2, 2, 2, 0, 0, 0, 0, 0, 0, 0]"
            ]
          },
          "metadata": {},
          "execution_count": 17
        }
      ]
    },
    {
      "cell_type": "code",
      "source": [
        "def one_hot_encoder(veriler):\n",
        "  one_hot_encoder = []\n",
        "\n",
        "  country = [i[0] for i in np.array(veriler)]\n",
        "  unique_country = sorted(np.unique(country))\n",
        "  for i in country:\n",
        "    if i == unique_country[0]:\n",
        "      one_hot_encoder.append([1,0,0])\n",
        "    elif i == unique_country[1]:\n",
        "      one_hot_encoder.append([0,1,0])\n",
        "    else:\n",
        "      one_hot_encoder.append([0,0,1])\n",
        "\n",
        "  return one_hot_encoder\n",
        "\n",
        "one_hot_encoder(veriler)"
      ],
      "metadata": {
        "colab": {
          "base_uri": "https://localhost:8080/"
        },
        "id": "cIVAhDfrkFnw",
        "outputId": "b27bcb45-684e-447f-9839-eb94236c1dcc"
      },
      "execution_count": 18,
      "outputs": [
        {
          "output_type": "execute_result",
          "data": {
            "text/plain": [
              "[[0, 1, 0],\n",
              " [0, 1, 0],\n",
              " [0, 1, 0],\n",
              " [0, 1, 0],\n",
              " [0, 1, 0],\n",
              " [0, 1, 0],\n",
              " [0, 1, 0],\n",
              " [0, 1, 0],\n",
              " [0, 1, 0],\n",
              " [0, 0, 1],\n",
              " [0, 0, 1],\n",
              " [0, 0, 1],\n",
              " [0, 0, 1],\n",
              " [0, 0, 1],\n",
              " [0, 0, 1],\n",
              " [1, 0, 0],\n",
              " [1, 0, 0],\n",
              " [1, 0, 0],\n",
              " [1, 0, 0],\n",
              " [1, 0, 0],\n",
              " [1, 0, 0],\n",
              " [1, 0, 0]]"
            ]
          },
          "metadata": {},
          "execution_count": 18
        }
      ]
    }
  ]
}