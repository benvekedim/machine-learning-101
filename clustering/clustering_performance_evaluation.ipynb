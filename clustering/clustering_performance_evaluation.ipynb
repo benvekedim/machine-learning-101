{
  "nbformat": 4,
  "nbformat_minor": 0,
  "metadata": {
    "colab": {
      "name": "clustering-performance-evaluation.ipynb",
      "provenance": [],
      "authorship_tag": "ABX9TyOUu+o6Bh5xsKuUSiuB7nU9",
      "include_colab_link": true
    },
    "kernelspec": {
      "name": "python3",
      "display_name": "Python 3"
    },
    "language_info": {
      "name": "python"
    }
  },
  "cells": [
    {
      "cell_type": "markdown",
      "metadata": {
        "id": "view-in-github",
        "colab_type": "text"
      },
      "source": [
        "<a href=\"https://colab.research.google.com/github/benvekedim/machine-learning-101/blob/main/clustering/clustering_performance_evaluation.ipynb\" target=\"_parent\"><img src=\"https://colab.research.google.com/assets/colab-badge.svg\" alt=\"Open In Colab\"/></a>"
      ]
    },
    {
      "cell_type": "markdown",
      "source": [
        "* Resource:  https://scikit-learn.org/stable/modules/clustering.html#clustering-performance-evaluation"
      ],
      "metadata": {
        "id": "M1P4JVjNPQ8x"
      }
    },
    {
      "cell_type": "markdown",
      "source": [
        "## Silhoutte Score\n",
        "\n",
        "* The best value is 1 and the worst value is -1. Values near 0 indicate overlapping clusters. Negative values generally indicate that a sample has been assigned to the wrong cluster, as a different cluster is more similar.\n",
        "* Metrik öklid kullanıldı\n",
        "\n"
      ],
      "metadata": {
        "id": "Y9qlgFHC-Hxw"
      }
    },
    {
      "cell_type": "code",
      "execution_count": null,
      "metadata": {
        "colab": {
          "base_uri": "https://localhost:8080/"
        },
        "id": "c0K75xSD8QcF",
        "outputId": "20bd1d1b-0eb5-493f-8904-e246bf86c91c"
      },
      "outputs": [
        {
          "output_type": "stream",
          "name": "stdout",
          "text": [
            "Silhouetter Score: 0.553\n"
          ]
        }
      ],
      "source": [
        "from sklearn import datasets\n",
        "from sklearn.cluster import KMeans\n",
        "from sklearn import metrics\n",
        "\n",
        "# Load iris\n",
        "iris = datasets.load_iris()\n",
        "X = iris.data\n",
        "y = iris.target\n",
        "\n",
        "# KMeans Model\n",
        "\n",
        "km = KMeans(n_clusters=3)\n",
        "\n",
        "# Fit the KMeans model\n",
        "\n",
        "km.fit_predict(X)\n",
        "\n",
        "# Calculate Silhoutte Score\n",
        "\n",
        "score = metrics.silhouette_score(X, km.labels_, metric='euclidean')\n",
        "\n",
        "# Print the score\n",
        "\n",
        "print('Silhouetter Score: %.3f' % score)"
      ]
    },
    {
      "cell_type": "code",
      "source": [
        "km.labels_"
      ],
      "metadata": {
        "colab": {
          "base_uri": "https://localhost:8080/"
        },
        "id": "_nPnjTtc4HRU",
        "outputId": "09869aed-f698-4212-faf0-47c33c22bbb8"
      },
      "execution_count": null,
      "outputs": [
        {
          "output_type": "execute_result",
          "data": {
            "text/plain": [
              "array([0, 0, 0, 0, 0, 0, 0, 0, 0, 0, 0, 0, 0, 0, 0, 0, 0, 0, 0, 0, 0, 0,\n",
              "       0, 0, 0, 0, 0, 0, 0, 0, 0, 0, 0, 0, 0, 0, 0, 0, 0, 0, 0, 0, 0, 0,\n",
              "       0, 0, 0, 0, 0, 0, 2, 2, 1, 2, 2, 2, 2, 2, 2, 2, 2, 2, 2, 2, 2, 2,\n",
              "       2, 2, 2, 2, 2, 2, 2, 2, 2, 2, 2, 1, 2, 2, 2, 2, 2, 2, 2, 2, 2, 2,\n",
              "       2, 2, 2, 2, 2, 2, 2, 2, 2, 2, 2, 2, 1, 2, 1, 1, 1, 1, 2, 1, 1, 1,\n",
              "       1, 1, 1, 2, 2, 1, 1, 1, 1, 2, 1, 2, 1, 2, 1, 1, 2, 2, 1, 1, 1, 1,\n",
              "       1, 2, 1, 1, 1, 1, 2, 1, 1, 1, 2, 1, 1, 1, 2, 1, 1, 2], dtype=int32)"
            ]
          },
          "metadata": {},
          "execution_count": 32
        }
      ]
    },
    {
      "cell_type": "code",
      "source": [
        "y"
      ],
      "metadata": {
        "colab": {
          "base_uri": "https://localhost:8080/"
        },
        "id": "PnOaWBYb4Mc5",
        "outputId": "699dac4d-7cb2-4f98-fa53-a0bb147ac06a"
      },
      "execution_count": null,
      "outputs": [
        {
          "output_type": "execute_result",
          "data": {
            "text/plain": [
              "array([0, 0, 0, 0, 0, 0, 0, 0, 0, 0, 0, 0, 0, 0, 0, 0, 0, 0, 0, 0, 0, 0,\n",
              "       0, 0, 0, 0, 0, 0, 0, 0, 0, 0, 0, 0, 0, 0, 0, 0, 0, 0, 0, 0, 0, 0,\n",
              "       0, 0, 0, 0, 0, 0, 1, 1, 1, 1, 1, 1, 1, 1, 1, 1, 1, 1, 1, 1, 1, 1,\n",
              "       1, 1, 1, 1, 1, 1, 1, 1, 1, 1, 1, 1, 1, 1, 1, 1, 1, 1, 1, 1, 1, 1,\n",
              "       1, 1, 1, 1, 1, 1, 1, 1, 1, 1, 1, 1, 2, 2, 2, 2, 2, 2, 2, 2, 2, 2,\n",
              "       2, 2, 2, 2, 2, 2, 2, 2, 2, 2, 2, 2, 2, 2, 2, 2, 2, 2, 2, 2, 2, 2,\n",
              "       2, 2, 2, 2, 2, 2, 2, 2, 2, 2, 2, 2, 2, 2, 2, 2, 2, 2])"
            ]
          },
          "metadata": {},
          "execution_count": 33
        }
      ]
    },
    {
      "cell_type": "markdown",
      "source": [
        "### Rand Index \n",
        "* Given the knowledge of the ground truth class assignments labels_true and our clustering algorithm assignments of the same samples labels_pred, the (adjusted or unadjusted) Rand index is a function that measures the similarity of the two assignments, ignoring permutations:\n",
        "\n",
        "\n"
      ],
      "metadata": {
        "id": "kvvPRNFhCWka"
      }
    },
    {
      "cell_type": "code",
      "source": [
        "from sklearn import metrics \n",
        "labels_true = [0, 0, 0, 1, 1, 1]\n",
        "labels_pred = [0, 0, 1, 1, 2, 2]\n",
        "metrics.rand_score(labels_true, labels_pred)"
      ],
      "metadata": {
        "colab": {
          "base_uri": "https://localhost:8080/"
        },
        "id": "VTi4HuMHCfwV",
        "outputId": "f07025c0-a912-45ff-9aef-e76738a0ad87"
      },
      "execution_count": null,
      "outputs": [
        {
          "output_type": "execute_result",
          "data": {
            "text/plain": [
              "0.6666666666666666"
            ]
          },
          "metadata": {},
          "execution_count": 2
        }
      ]
    },
    {
      "cell_type": "markdown",
      "source": [
        "* The Rand index does not ensure to obtain a value close to 0.0 for a random labelling. The adjusted Rand index corrects for chance and will give such a baseline."
      ],
      "metadata": {
        "id": "D5Rz5wJ5CusH"
      }
    },
    {
      "cell_type": "code",
      "source": [
        "metrics.adjusted_rand_score(labels_true, labels_pred)\n"
      ],
      "metadata": {
        "colab": {
          "base_uri": "https://localhost:8080/"
        },
        "id": "SUzsTmbbCwAr",
        "outputId": "1f7ed89b-be36-44fc-b113-41d977f8a767"
      },
      "execution_count": null,
      "outputs": [
        {
          "output_type": "execute_result",
          "data": {
            "text/plain": [
              "0.24242424242424243"
            ]
          },
          "metadata": {},
          "execution_count": 3
        }
      ]
    },
    {
      "cell_type": "markdown",
      "source": [
        "* As with all clustering metrics, one can permute 0 and 1 in the predicted labels, rename 2 to 3, and get the same score:"
      ],
      "metadata": {
        "id": "Nl3jDPxnC61a"
      }
    },
    {
      "cell_type": "code",
      "source": [
        "labels_pred = [1, 1, 0, 0, 3, 3]\n",
        "metrics.rand_score(labels_true, labels_pred) # 0.666...\n",
        "metrics.adjusted_rand_score(labels_true, labels_pred) #0.2424..."
      ],
      "metadata": {
        "colab": {
          "base_uri": "https://localhost:8080/"
        },
        "id": "710KtfbDC6hj",
        "outputId": "4a7bed8f-722f-4e7a-db89-cc02534d9fca"
      },
      "execution_count": null,
      "outputs": [
        {
          "output_type": "execute_result",
          "data": {
            "text/plain": [
              "0.24242424242424243"
            ]
          },
          "metadata": {},
          "execution_count": 4
        }
      ]
    },
    {
      "cell_type": "markdown",
      "source": [
        "* Furthermore, both rand_score adjusted_rand_score are symmetric: swapping the argument does not change the scores. They can thus be used as consensus measures:"
      ],
      "metadata": {
        "id": "gWs1awoWDkqe"
      }
    },
    {
      "cell_type": "code",
      "source": [
        "metrics.rand_score(labels_pred, labels_true)  # 0.666...\n",
        "metrics.adjusted_rand_score(labels_true, labels_pred)  #0.2424..."
      ],
      "metadata": {
        "colab": {
          "base_uri": "https://localhost:8080/"
        },
        "id": "7uAjk5SrDkVY",
        "outputId": "56995afe-8916-4057-cc5e-fb68310b49e0"
      },
      "execution_count": null,
      "outputs": [
        {
          "output_type": "execute_result",
          "data": {
            "text/plain": [
              "0.24242424242424243"
            ]
          },
          "metadata": {},
          "execution_count": 5
        }
      ]
    },
    {
      "cell_type": "markdown",
      "source": [
        "* Perfect labeling is scored 1.0:"
      ],
      "metadata": {
        "id": "hMAC6hepD7CH"
      }
    },
    {
      "cell_type": "code",
      "source": [
        "labels_pred = labels_true[:]\n",
        "#labels_pred  #[0, 0, 0, 1, 1, 1]\n",
        "#labels_true #[0, 0, 0, 1, 1, 1]\n",
        "metrics.rand_score(labels_true, labels_pred) #1.0\n",
        "metrics.adjusted_rand_score(labels_true, labels_pred)  #1.0"
      ],
      "metadata": {
        "colab": {
          "base_uri": "https://localhost:8080/"
        },
        "id": "1S8FaDwzD9Sf",
        "outputId": "2210b86a-5c6d-4686-939b-bc0577539261"
      },
      "execution_count": null,
      "outputs": [
        {
          "output_type": "execute_result",
          "data": {
            "text/plain": [
              "1.0"
            ]
          },
          "metadata": {},
          "execution_count": 6
        }
      ]
    },
    {
      "cell_type": "markdown",
      "source": [
        "## Mutual Information based scores\n",
        "\n",
        "* Given the knowledge of the ground truth class assignments labels_true and our clustering algorithm assignments of the same samples labels_pred, the Mutual Information is a function that measures the agreement of the two assignments, ignoring permutations. Two different normalized versions of this measure are available, Normalized Mutual Information (NMI) and Adjusted Mutual Information (AMI). NMI is often used in the literature, while AMI was proposed more recently and is normalized against chance:"
      ],
      "metadata": {
        "id": "ceQb5-MfF2Sp"
      }
    },
    {
      "cell_type": "code",
      "source": [
        "from sklearn import metrics\n",
        "labels_true = [0, 0, 0, 1, 1, 1]\n",
        "labels_pred = [0, 0, 1, 1, 2, 2]\n",
        "metrics.adjusted_mutual_info_score(labels_true, labels_pred)"
      ],
      "metadata": {
        "colab": {
          "base_uri": "https://localhost:8080/"
        },
        "id": "gKEbIEmnFzLz",
        "outputId": "5fe60492-76be-4297-f991-e0cca624647a"
      },
      "execution_count": null,
      "outputs": [
        {
          "output_type": "execute_result",
          "data": {
            "text/plain": [
              "0.2987924581708901"
            ]
          },
          "metadata": {},
          "execution_count": 7
        }
      ]
    },
    {
      "cell_type": "markdown",
      "source": [
        "* One can permute 0 and 1 in the predicted labels, rename 2 to 3 and get the same score:"
      ],
      "metadata": {
        "id": "N5eJa5_bGQPZ"
      }
    },
    {
      "cell_type": "code",
      "source": [
        "labels_pred = [1, 1, 0, 0, 3, 3]\n",
        "metrics.adjusted_mutual_info_score(labels_true, labels_pred)  \n"
      ],
      "metadata": {
        "colab": {
          "base_uri": "https://localhost:8080/"
        },
        "id": "zU40U25fGRSF",
        "outputId": "77bab4a9-f0a1-4147-e4f6-9f9c22f16af5"
      },
      "execution_count": null,
      "outputs": [
        {
          "output_type": "execute_result",
          "data": {
            "text/plain": [
              "0.2987924581708901"
            ]
          },
          "metadata": {},
          "execution_count": 8
        }
      ]
    },
    {
      "cell_type": "markdown",
      "source": [
        "* All, mutual_info_score, adjusted_mutual_info_score and normalized_mutual_info_score are symmetric: swapping the argument does not change the score. Thus they can be used as a consensus measure: "
      ],
      "metadata": {
        "id": "N1fRsTwSGXA4"
      }
    },
    {
      "cell_type": "code",
      "source": [
        "metrics.adjusted_mutual_info_score(labels_pred, labels_true)  \n"
      ],
      "metadata": {
        "colab": {
          "base_uri": "https://localhost:8080/"
        },
        "id": "JnvPLN-SGb-i",
        "outputId": "0516e9cb-f1a3-4afb-a9d1-7048d8f34613"
      },
      "execution_count": null,
      "outputs": [
        {
          "output_type": "execute_result",
          "data": {
            "text/plain": [
              "0.2987924581708903"
            ]
          },
          "metadata": {},
          "execution_count": 9
        }
      ]
    },
    {
      "cell_type": "markdown",
      "source": [
        "* Perfect labeling is scored 1.0:"
      ],
      "metadata": {
        "id": "sX-H9hb_GkLK"
      }
    },
    {
      "cell_type": "code",
      "source": [
        "# labels_pred ile labels_true bu şekilde eşitlendi aynı şey \n",
        "labels_pred = labels_true[:]\n",
        "metrics.adjusted_mutual_info_score(labels_true, labels_pred)   # 1.0\n",
        "metrics.normalized_mutual_info_score(labels_true, labels_pred)  # 1.0\n"
      ],
      "metadata": {
        "colab": {
          "base_uri": "https://localhost:8080/"
        },
        "id": "7DM9IyyuGmRj",
        "outputId": "e6f47f7f-d615-4991-b99a-9031b2692be2"
      },
      "execution_count": null,
      "outputs": [
        {
          "output_type": "execute_result",
          "data": {
            "text/plain": [
              "1.0"
            ]
          },
          "metadata": {},
          "execution_count": 10
        }
      ]
    },
    {
      "cell_type": "markdown",
      "source": [
        "* This is not true for mutual_info_score, which is therefore harder to judge:"
      ],
      "metadata": {
        "id": "e-WO1XM_G8Dz"
      }
    },
    {
      "cell_type": "code",
      "source": [
        "metrics.mutual_info_score(labels_true, labels_pred)  \n",
        "#labels_true  #[0, 0, 0, 1, 1, 1]\n",
        "#labels_pred #[0, 0, 0, 1, 1, 1]"
      ],
      "metadata": {
        "colab": {
          "base_uri": "https://localhost:8080/"
        },
        "id": "zbS9Tp6lG60n",
        "outputId": "906d81b5-4bb1-4488-a86b-891cfd9a2965"
      },
      "execution_count": null,
      "outputs": [
        {
          "output_type": "execute_result",
          "data": {
            "text/plain": [
              "0.6931471805599452"
            ]
          },
          "metadata": {},
          "execution_count": 11
        }
      ]
    },
    {
      "cell_type": "markdown",
      "source": [
        "* Bad (e.g. independent labelings) have non-positive scores:"
      ],
      "metadata": {
        "id": "0CZUOYgrHZGW"
      }
    },
    {
      "cell_type": "code",
      "source": [
        "labels_true = [0, 1, 2, 0, 3, 4, 5, 1]\n",
        "labels_pred = [1, 1, 0, 0, 2, 2, 2, 2]\n",
        "metrics.adjusted_mutual_info_score(labels_true, labels_pred)  "
      ],
      "metadata": {
        "colab": {
          "base_uri": "https://localhost:8080/"
        },
        "id": "Oox0zXa2Hbmd",
        "outputId": "f8b5c833-b1a8-4594-8388-b2b625195556"
      },
      "execution_count": null,
      "outputs": [
        {
          "output_type": "execute_result",
          "data": {
            "text/plain": [
              "-0.16666666666666655"
            ]
          },
          "metadata": {},
          "execution_count": 12
        }
      ]
    },
    {
      "cell_type": "markdown",
      "source": [
        "##  Homogeneity, completeness and V-measure\n",
        "\n",
        "* homogeneity: each cluster contains only members of a single class.\n",
        "* completeness: all members of a given class are assigned to the same cluster.\n",
        "\n",
        "* We can turn those concept as scores homogeneity_score and completeness_score. Both are bounded below by 0.0 and above by 1.0 (higher is better):"
      ],
      "metadata": {
        "id": "M2IzzsHfHzT5"
      }
    },
    {
      "cell_type": "code",
      "source": [
        "from sklearn import metrics\n",
        "labels_true = [0, 0, 0, 1, 1, 1]\n",
        "labels_pred = [0, 0, 1, 1, 2, 2]\n",
        "metrics.homogeneity_score(labels_true, labels_pred) #0.66...\n",
        "metrics.completeness_score(labels_true, labels_pred) #0.42..."
      ],
      "metadata": {
        "colab": {
          "base_uri": "https://localhost:8080/"
        },
        "id": "bEHbR7x9H_fq",
        "outputId": "a9fc7dcb-d123-4da7-e51e-e53c8e0a8f36"
      },
      "execution_count": null,
      "outputs": [
        {
          "output_type": "execute_result",
          "data": {
            "text/plain": [
              "0.420619835714305"
            ]
          },
          "metadata": {},
          "execution_count": 13
        }
      ]
    },
    {
      "cell_type": "markdown",
      "source": [
        "* Their harmonic mean called V-measure is computed by v_measure_score:"
      ],
      "metadata": {
        "id": "wg-XznxWIWHS"
      }
    },
    {
      "cell_type": "code",
      "source": [
        "metrics.v_measure_score(labels_true, labels_pred) #0.51...\n"
      ],
      "metadata": {
        "colab": {
          "base_uri": "https://localhost:8080/"
        },
        "id": "LQqBNpZpIXgv",
        "outputId": "3dc0965e-7392-48d1-f0e0-a87b764e7c84"
      },
      "execution_count": null,
      "outputs": [
        {
          "output_type": "execute_result",
          "data": {
            "text/plain": [
              "0.5158037429793889"
            ]
          },
          "metadata": {},
          "execution_count": 14
        }
      ]
    },
    {
      "cell_type": "markdown",
      "source": [
        "* This function's formula is as follows:\n",
        "![homogen-complex-v-measure.png](data:image/png;base64,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)\n",
        "* beta defaults to value of 1.0,but for using a value less than  1 for beta\n"
      ],
      "metadata": {
        "id": "rPX4ecRAI6UI"
      }
    },
    {
      "cell_type": "code",
      "source": [
        "metrics.v_measure_score(labels_true, labels_pred, beta=0.6)"
      ],
      "metadata": {
        "colab": {
          "base_uri": "https://localhost:8080/"
        },
        "id": "xJ3C66caOPNd",
        "outputId": "805c27be-527c-4348-e69a-f445900fbe72"
      },
      "execution_count": null,
      "outputs": [
        {
          "output_type": "execute_result",
          "data": {
            "text/plain": [
              "0.5467344787062375"
            ]
          },
          "metadata": {},
          "execution_count": 15
        }
      ]
    },
    {
      "cell_type": "markdown",
      "source": [
        "* more weight will be attributed to homogeneity, and using a value greater than 1:"
      ],
      "metadata": {
        "id": "R55oC1c0OhVI"
      }
    },
    {
      "cell_type": "code",
      "source": [
        "metrics.v_measure_score(labels_true, labels_pred, beta=1.8)"
      ],
      "metadata": {
        "colab": {
          "base_uri": "https://localhost:8080/"
        },
        "id": "CR0mL-40OiSp",
        "outputId": "25d62edb-e0d7-4e9b-afb4-b84c8a044a72"
      },
      "execution_count": null,
      "outputs": [
        {
          "output_type": "execute_result",
          "data": {
            "text/plain": [
              "0.48447946234141737"
            ]
          },
          "metadata": {},
          "execution_count": 16
        }
      ]
    },
    {
      "cell_type": "markdown",
      "source": [
        "* more weight will be attributed to completeness.\n",
        "\n",
        "* The V-measure is actually equivalent to the mutual information (NMI) discussed above, with the aggregation function being the arithmetic mean [B2011].\n",
        "\n",
        "* Homogeneity, completeness and V-measure can be computed at once using homogeneity_completeness_v_measure as follows:"
      ],
      "metadata": {
        "id": "gJfV_1BZOnRA"
      }
    },
    {
      "cell_type": "code",
      "source": [
        "metrics.homogeneity_completeness_v_measure(labels_true, labels_pred)"
      ],
      "metadata": {
        "colab": {
          "base_uri": "https://localhost:8080/"
        },
        "id": "Jo_u1bl-Orn-",
        "outputId": "cc029081-94f1-4a31-917f-8eb6515cf824"
      },
      "execution_count": null,
      "outputs": [
        {
          "output_type": "execute_result",
          "data": {
            "text/plain": [
              "(0.6666666666666669, 0.420619835714305, 0.5158037429793889)"
            ]
          },
          "metadata": {},
          "execution_count": 17
        }
      ]
    },
    {
      "cell_type": "markdown",
      "source": [
        "* The following clustering assignment is slightly better, since it is homogeneous but not complete:"
      ],
      "metadata": {
        "id": "5WiZmC0zOx5V"
      }
    },
    {
      "cell_type": "code",
      "source": [
        "labels_pred = [0, 0, 0, 1, 2, 2]\n",
        "metrics.homogeneity_completeness_v_measure(labels_true, labels_pred)"
      ],
      "metadata": {
        "colab": {
          "base_uri": "https://localhost:8080/"
        },
        "id": "TzAWOTNDOzPc",
        "outputId": "1610ff8d-b59a-4ccc-e797-c8cca209879f"
      },
      "execution_count": null,
      "outputs": [
        {
          "output_type": "execute_result",
          "data": {
            "text/plain": [
              "(1.0, 0.6853314789615865, 0.8132898335036762)"
            ]
          },
          "metadata": {},
          "execution_count": 18
        }
      ]
    },
    {
      "cell_type": "markdown",
      "source": [
        "### Fowlkes-Mallows scores\n",
        "![FMI-Score.png](data:image/png;base64,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)"
      ],
      "metadata": {
        "id": "q7_7ZNkERlYr"
      }
    },
    {
      "cell_type": "code",
      "source": [
        "from sklearn import metrics\n",
        "labels_true = [0, 0, 0, 1, 1, 1]\n",
        "labels_pred = [0, 0, 1, 1, 2, 2]\n",
        "metrics.fowlkes_mallows_score(labels_true, labels_pred)"
      ],
      "metadata": {
        "colab": {
          "base_uri": "https://localhost:8080/"
        },
        "id": "aK9roaQcR3jU",
        "outputId": "5bdf82d0-7165-4c33-c8b4-73b3e1959f92"
      },
      "execution_count": null,
      "outputs": [
        {
          "output_type": "execute_result",
          "data": {
            "text/plain": [
              "0.4714045207910317"
            ]
          },
          "metadata": {},
          "execution_count": 34
        }
      ]
    },
    {
      "cell_type": "markdown",
      "source": [
        "* One can permute 0 and 1 in the predicted labels, rename 2 to 3 and get the same score:"
      ],
      "metadata": {
        "id": "ZkFT1lxXSHKM"
      }
    },
    {
      "cell_type": "code",
      "source": [
        "labels_pred = [1,1,0,0,3,3]\n",
        "metrics.fowlkes_mallows_score(labels_true,labels_pred)"
      ],
      "metadata": {
        "colab": {
          "base_uri": "https://localhost:8080/"
        },
        "id": "cJcELyQdSF_-",
        "outputId": "a2ccdc98-45c6-4b54-d780-e7bae32cd172"
      },
      "execution_count": null,
      "outputs": [
        {
          "output_type": "execute_result",
          "data": {
            "text/plain": [
              "0.4714045207910317"
            ]
          },
          "metadata": {},
          "execution_count": 35
        }
      ]
    },
    {
      "cell_type": "markdown",
      "source": [
        "* Perfect labeling is score 1.0 : "
      ],
      "metadata": {
        "id": "HGKTALyLSX2l"
      }
    },
    {
      "cell_type": "code",
      "source": [
        "labels_pred = labels_true[:]\n",
        "metrics.fowlkes_mallows_score(labels_true, labels_pred)"
      ],
      "metadata": {
        "colab": {
          "base_uri": "https://localhost:8080/"
        },
        "id": "m8K6_2KrSeUw",
        "outputId": "2cb49f6e-41d3-4b35-b07b-3dcad06c6129"
      },
      "execution_count": null,
      "outputs": [
        {
          "output_type": "execute_result",
          "data": {
            "text/plain": [
              "1.0"
            ]
          },
          "metadata": {},
          "execution_count": 36
        }
      ]
    },
    {
      "cell_type": "markdown",
      "source": [
        "* Bad (e.g independent labelings) have zero scores:"
      ],
      "metadata": {
        "id": "ynzhslbBSikr"
      }
    },
    {
      "cell_type": "code",
      "source": [
        "labels_true = [0, 1, 2, 0, 3, 4, 5, 1]\n",
        "labels_pred = [1, 1, 0, 0, 2, 2, 2, 2]\n",
        "metrics.fowlkes_mallows_score(labels_true, labels_pred)"
      ],
      "metadata": {
        "colab": {
          "base_uri": "https://localhost:8080/"
        },
        "id": "_8uqoOl5SrSo",
        "outputId": "dc37e29a-0a1a-4948-a5f4-8a8b4b34a2d2"
      },
      "execution_count": null,
      "outputs": [
        {
          "output_type": "execute_result",
          "data": {
            "text/plain": [
              "0.0"
            ]
          },
          "metadata": {},
          "execution_count": 37
        }
      ]
    },
    {
      "cell_type": "markdown",
      "source": [
        "## Calinski-Harabasz Index\n",
        "* If the ground truth labels are not known, the Calinski-Harabasz index (sklearn.metrics.calinski_harabasz_score) - also known as the Variance Ratio Criterion - can be used to evaluate the model, where a higher Calinski-Harabasz score relates to a model with better defined clusters.\n",
        "\n",
        "* The index is the ratio of the sum of between-clusters dispersion and of within-cluster dispersion for all clusters (where dispersion is defined as the sum of distances squared):"
      ],
      "metadata": {
        "id": "ojkCTtUvS8S7"
      }
    },
    {
      "cell_type": "code",
      "source": [
        "from sklearn import metrics\n",
        "from sklearn.metrics import pairwise_distances\n",
        "from sklearn import datasets\n",
        "X, y = datasets.load_iris(return_X_y=True)\n",
        "\n",
        "#In normal usage, the Calinski-Harabasz index is applied to the results of a cluster analysis:\n",
        "\n",
        "import numpy as np\n",
        "from sklearn.cluster import KMeans\n",
        "kmeans_model = KMeans(n_clusters=3,random_state=1).fit(X)\n",
        "labels = kmeans_model.labels_\n",
        "metrics.calinski_harabasz_score(X,labels)\n"
      ],
      "metadata": {
        "colab": {
          "base_uri": "https://localhost:8080/"
        },
        "id": "mU46160aTE-H",
        "outputId": "a9796c17-1e6f-4041-b9d8-e095fe5815ed"
      },
      "execution_count": null,
      "outputs": [
        {
          "output_type": "execute_result",
          "data": {
            "text/plain": [
              "561.62775662962"
            ]
          },
          "metadata": {},
          "execution_count": 23
        }
      ]
    },
    {
      "cell_type": "markdown",
      "source": [
        "## Davies-Bouldin Index\n",
        "* If the ground truth labels are not known, the Davies-Bouldin index (sklearn.metrics.davies_bouldin_score) can be used to evaluate the model, where a lower Davies-Bouldin index relates to a model with better separation between the clusters.\n",
        "\n",
        "* This index signifies the average ‘similarity’ between clusters, where the similarity is a measure that compares the distance between clusters with the size of the clusters themselves.\n",
        "\n",
        "* Zero is the lowest possible score. Values closer to zero indicate a better partition.\n",
        "\n",
        "* In normal usage, the Davies-Bouldin index is applied to the results of a cluster analysis as follows:"
      ],
      "metadata": {
        "id": "MmtH1BsCUDeG"
      }
    },
    {
      "cell_type": "code",
      "source": [
        "from scipy.sparse import data\n",
        "from sklearn import datasets\n",
        "iris = datasets.load_iris()\n",
        "X = iris.data\n",
        "from sklearn.cluster import KMeans\n",
        "from sklearn.metrics import davies_bouldin_score\n",
        "kmeans = KMeans(n_clusters=3,random_state=1).fit(X)\n",
        "labels = kmeans.labels_\n",
        "davies_bouldin_score(X,labels)"
      ],
      "metadata": {
        "colab": {
          "base_uri": "https://localhost:8080/"
        },
        "id": "CctDd-RJUSPJ",
        "outputId": "750c3542-1ad1-4a7d-f2de-dc800da60ca0"
      },
      "execution_count": null,
      "outputs": [
        {
          "output_type": "execute_result",
          "data": {
            "text/plain": [
              "0.6619715465007511"
            ]
          },
          "metadata": {},
          "execution_count": 24
        }
      ]
    },
    {
      "cell_type": "markdown",
      "source": [
        "### Accuracy Score\n",
        "\n",
        "* Accuracy classification score.\n",
        "\n",
        "* In multilabel classification, this function computes subset accuracy: the set of labels predicted for a sample must exactly match the corresponding set of labels in y_true."
      ],
      "metadata": {
        "id": "iejjBhMJ-6w8"
      }
    },
    {
      "cell_type": "code",
      "source": [
        "# y dediğimiz y_true oluyor\n",
        "# km.labels_ dediğimiz y_pred oluyor\n",
        "from sklearn.metrics import accuracy_score\n",
        "accuracy_score(y,km.labels_)"
      ],
      "metadata": {
        "colab": {
          "base_uri": "https://localhost:8080/"
        },
        "id": "04e5WU4j-6PN",
        "outputId": "6759a384-2762-47e9-a093-9ff97062b9e0"
      },
      "execution_count": null,
      "outputs": [
        {
          "output_type": "execute_result",
          "data": {
            "text/plain": [
              "0.44"
            ]
          },
          "metadata": {},
          "execution_count": 25
        }
      ]
    },
    {
      "cell_type": "markdown",
      "source": [
        "## Examples of Adjusted Rand Score \n",
        "* Perfectly matching labelings have a score of 1 even\n",
        "*  1'e ne kadar yakınsa o kadar iyi\n",
        "* adjusted rand score simetrik\n",
        "* Kullanılış : sklearn.metrics.adjusted_rand_score(labels_true, labels_pred)\n"
      ],
      "metadata": {
        "id": "-K_Yjr48AooR"
      }
    },
    {
      "cell_type": "code",
      "source": [
        "from sklearn.metrics.cluster import adjusted_rand_score\n",
        "adjusted_rand_score([0, 0, 1, 1], [0, 0, 1, 1])"
      ],
      "metadata": {
        "colab": {
          "base_uri": "https://localhost:8080/"
        },
        "id": "zrovdgkiAoUb",
        "outputId": "8f214c60-e185-4901-e976-00cc8893e423"
      },
      "execution_count": null,
      "outputs": [
        {
          "output_type": "execute_result",
          "data": {
            "text/plain": [
              "1.0"
            ]
          },
          "metadata": {},
          "execution_count": 26
        }
      ]
    },
    {
      "cell_type": "code",
      "source": [
        "adjusted_rand_score([0, 0, 1, 1], [1, 1, 0, 0])"
      ],
      "metadata": {
        "colab": {
          "base_uri": "https://localhost:8080/"
        },
        "id": "3F3weaeCAILV",
        "outputId": "7e38416f-2853-46c4-dd67-9be7e6405b06"
      },
      "execution_count": null,
      "outputs": [
        {
          "output_type": "execute_result",
          "data": {
            "text/plain": [
              "1.0"
            ]
          },
          "metadata": {},
          "execution_count": 27
        }
      ]
    },
    {
      "cell_type": "markdown",
      "source": [
        "* Labelings that assign all classes members to the same clusters are complete but may not always be pure, hence penalized:"
      ],
      "metadata": {
        "id": "CTtC0iQvBDgk"
      }
    },
    {
      "cell_type": "code",
      "source": [
        "adjusted_rand_score([0, 0, 1, 2], [0, 0, 1, 1])"
      ],
      "metadata": {
        "colab": {
          "base_uri": "https://localhost:8080/"
        },
        "id": "s7NAsAX9BGBh",
        "outputId": "2b693bc3-fd91-4fc7-d8fd-2c6a89363615"
      },
      "execution_count": null,
      "outputs": [
        {
          "output_type": "execute_result",
          "data": {
            "text/plain": [
              "0.5714285714285714"
            ]
          },
          "metadata": {},
          "execution_count": 28
        }
      ]
    },
    {
      "cell_type": "markdown",
      "source": [
        "* ARI is symmetric, so labelings that have pure clusters with members coming from the same classes but unnecessary splits are penalized:"
      ],
      "metadata": {
        "id": "DPSU0HPDBKVN"
      }
    },
    {
      "cell_type": "code",
      "source": [
        "adjusted_rand_score([0, 0, 1, 1], [0, 0, 1, 2])"
      ],
      "metadata": {
        "colab": {
          "base_uri": "https://localhost:8080/"
        },
        "id": "vHzVw3ZPBJMx",
        "outputId": "00a61bd1-1df5-4da1-d7b0-5732869c97c8"
      },
      "execution_count": null,
      "outputs": [
        {
          "output_type": "execute_result",
          "data": {
            "text/plain": [
              "0.5714285714285714"
            ]
          },
          "metadata": {},
          "execution_count": 29
        }
      ]
    },
    {
      "cell_type": "markdown",
      "source": [
        "* If classes members are completely split across different clusters, the assignment is totally incomplete, hence the ARI is very low:"
      ],
      "metadata": {
        "id": "m-UEGec8BSqk"
      }
    },
    {
      "cell_type": "code",
      "source": [
        "adjusted_rand_score([0, 0, 0, 0], [0, 1, 2, 3])"
      ],
      "metadata": {
        "colab": {
          "base_uri": "https://localhost:8080/"
        },
        "id": "6r3tytuRBP7c",
        "outputId": "1861f82c-6a9e-440a-a5d1-62dc3f56476c"
      },
      "execution_count": null,
      "outputs": [
        {
          "output_type": "execute_result",
          "data": {
            "text/plain": [
              "0.0"
            ]
          },
          "metadata": {},
          "execution_count": 30
        }
      ]
    },
    {
      "cell_type": "markdown",
      "source": [
        "* İris için Adjusted Rand Score "
      ],
      "metadata": {
        "id": "Hbsi0I2cBqE5"
      }
    },
    {
      "cell_type": "code",
      "source": [
        "adjusted_rand_score(y,km.labels_)"
      ],
      "metadata": {
        "colab": {
          "base_uri": "https://localhost:8080/"
        },
        "id": "tRx80v6oBoX7",
        "outputId": "e7304455-0d5a-4fe7-8ce3-45043391ff0f"
      },
      "execution_count": null,
      "outputs": [
        {
          "output_type": "execute_result",
          "data": {
            "text/plain": [
              "0.7302382722834697"
            ]
          },
          "metadata": {},
          "execution_count": 31
        }
      ]
    }
  ]
}