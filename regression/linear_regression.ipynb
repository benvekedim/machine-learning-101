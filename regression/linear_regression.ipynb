{
  "nbformat": 4,
  "nbformat_minor": 0,
  "metadata": {
    "colab": {
      "name": "linear_regression.ipynb",
      "provenance": [],
      "authorship_tag": "ABX9TyN6gWW3suptcgy4dfU0h8bi",
      "include_colab_link": true
    },
    "kernelspec": {
      "name": "python3",
      "display_name": "Python 3"
    },
    "language_info": {
      "name": "python"
    }
  },
  "cells": [
    {
      "cell_type": "markdown",
      "metadata": {
        "id": "view-in-github",
        "colab_type": "text"
      },
      "source": [
        "<a href=\"https://colab.research.google.com/github/benvekedim/machine-learning-101/blob/main/regression/linear_regression.ipynb\" target=\"_parent\"><img src=\"https://colab.research.google.com/assets/colab-badge.svg\" alt=\"Open In Colab\"/></a>"
      ]
    },
    {
      "cell_type": "code",
      "execution_count": 1,
      "metadata": {
        "colab": {
          "base_uri": "https://localhost:8080/"
        },
        "id": "rBuiXn_W3QkS",
        "outputId": "c6c82c46-b018-4f75-baf9-76978ba46412"
      },
      "outputs": [
        {
          "output_type": "stream",
          "name": "stdout",
          "text": [
            "    Aylar  Satislar\n",
            "0       8   19671.5\n",
            "1      10   23102.5\n",
            "2      11   18865.5\n",
            "3      13   21762.5\n",
            "4      14   19945.5\n",
            "5      19   28321.0\n",
            "6      19   30075.0\n",
            "7      20   27222.5\n",
            "8      20   32222.5\n",
            "9      24   28594.5\n",
            "10     25   31609.0\n",
            "11     25   27897.0\n",
            "12     25   28478.5\n",
            "13     26   28540.5\n",
            "14     29   30555.5\n",
            "15     31   33969.0\n",
            "16     32   33014.5\n",
            "17     34   41544.0\n",
            "18     37   40681.5\n",
            "19     37    4697.0\n",
            "20     42   45869.0\n",
            "21     44   49136.5\n",
            "22     49   50651.0\n",
            "23     50   56906.0\n",
            "24     54   54715.5\n",
            "25     55   52791.0\n",
            "26     59   58484.5\n",
            "27     59   56317.5\n",
            "28     64   61195.5\n",
            "29     65   60936.0\n"
          ]
        }
      ],
      "source": [
        "\n",
        "#1.kutuphaneler\n",
        "import numpy as np\n",
        "import matplotlib.pyplot as plt\n",
        "import pandas as pd\n",
        "\n",
        "#2.veri onisleme\n",
        "#2.1.veri yukleme\n",
        "veriler = pd.read_csv('https://bilkav.com/satislar.csv')\n",
        "#pd.read_csv(\"veriler.csv\")\n",
        "#test\n",
        "print(veriler)\n",
        "#veri on isleme\n"
      ]
    },
    {
      "cell_type": "code",
      "source": [
        "aylar = veriler[['Aylar']]\n",
        "print(aylar)"
      ],
      "metadata": {
        "colab": {
          "base_uri": "https://localhost:8080/"
        },
        "id": "W4bU6ocm3p03",
        "outputId": "f2f291b4-12f4-4ecf-f45c-257e328e1278"
      },
      "execution_count": 2,
      "outputs": [
        {
          "output_type": "stream",
          "name": "stdout",
          "text": [
            "    Aylar\n",
            "0       8\n",
            "1      10\n",
            "2      11\n",
            "3      13\n",
            "4      14\n",
            "5      19\n",
            "6      19\n",
            "7      20\n",
            "8      20\n",
            "9      24\n",
            "10     25\n",
            "11     25\n",
            "12     25\n",
            "13     26\n",
            "14     29\n",
            "15     31\n",
            "16     32\n",
            "17     34\n",
            "18     37\n",
            "19     37\n",
            "20     42\n",
            "21     44\n",
            "22     49\n",
            "23     50\n",
            "24     54\n",
            "25     55\n",
            "26     59\n",
            "27     59\n",
            "28     64\n",
            "29     65\n"
          ]
        }
      ]
    },
    {
      "cell_type": "code",
      "source": [
        "satislar = veriler[['Satislar']]\n",
        "print(satislar)"
      ],
      "metadata": {
        "colab": {
          "base_uri": "https://localhost:8080/"
        },
        "id": "jZ5fRVnO3sb1",
        "outputId": "305d9c35-be39-40f8-9552-9d0179f2c74d"
      },
      "execution_count": 3,
      "outputs": [
        {
          "output_type": "stream",
          "name": "stdout",
          "text": [
            "    Satislar\n",
            "0    19671.5\n",
            "1    23102.5\n",
            "2    18865.5\n",
            "3    21762.5\n",
            "4    19945.5\n",
            "5    28321.0\n",
            "6    30075.0\n",
            "7    27222.5\n",
            "8    32222.5\n",
            "9    28594.5\n",
            "10   31609.0\n",
            "11   27897.0\n",
            "12   28478.5\n",
            "13   28540.5\n",
            "14   30555.5\n",
            "15   33969.0\n",
            "16   33014.5\n",
            "17   41544.0\n",
            "18   40681.5\n",
            "19    4697.0\n",
            "20   45869.0\n",
            "21   49136.5\n",
            "22   50651.0\n",
            "23   56906.0\n",
            "24   54715.5\n",
            "25   52791.0\n",
            "26   58484.5\n",
            "27   56317.5\n",
            "28   61195.5\n",
            "29   60936.0\n"
          ]
        }
      ]
    },
    {
      "cell_type": "code",
      "source": [
        "satislar2 = veriler.iloc[:,:1].values\n",
        "print(satislar2)"
      ],
      "metadata": {
        "colab": {
          "base_uri": "https://localhost:8080/"
        },
        "id": "bPTeDnkm49bj",
        "outputId": "ba0fe5ef-84d4-4dc8-9cec-e7d92aac0fa2"
      },
      "execution_count": 4,
      "outputs": [
        {
          "output_type": "stream",
          "name": "stdout",
          "text": [
            "[[ 8]\n",
            " [10]\n",
            " [11]\n",
            " [13]\n",
            " [14]\n",
            " [19]\n",
            " [19]\n",
            " [20]\n",
            " [20]\n",
            " [24]\n",
            " [25]\n",
            " [25]\n",
            " [25]\n",
            " [26]\n",
            " [29]\n",
            " [31]\n",
            " [32]\n",
            " [34]\n",
            " [37]\n",
            " [37]\n",
            " [42]\n",
            " [44]\n",
            " [49]\n",
            " [50]\n",
            " [54]\n",
            " [55]\n",
            " [59]\n",
            " [59]\n",
            " [64]\n",
            " [65]]\n"
          ]
        }
      ]
    },
    {
      "cell_type": "code",
      "source": [
        "#verilerin egitim ve test için bolunmesi\n",
        "\n",
        "from sklearn.model_selection import train_test_split\n",
        "\n",
        "x_train, x_test, y_train, y_test = train_test_split(aylar,satislar,test_size=0.33,random_state=0)\n"
      ],
      "metadata": {
        "id": "Yrjf0PRE3uTj"
      },
      "execution_count": 5,
      "outputs": []
    },
    {
      "cell_type": "code",
      "source": [
        "#verilerin olceklenmesi\n",
        "from sklearn.preprocessing import StandardScaler\n",
        "\n",
        "sc = StandardScaler()\n",
        "\n",
        "X_train = sc.fit_transform(x_train)\n",
        "X_test = sc.fit_transform(x_test)\n",
        "\n",
        "Y_train = sc.fit_transform(y_train)\n",
        "Y_test = sc.fit_transform(y_test)"
      ],
      "metadata": {
        "id": "odNikD2F4F9d"
      },
      "execution_count": 6,
      "outputs": []
    },
    {
      "cell_type": "code",
      "source": [
        "#Eksik , hatalı, geçmiş veriler için tahmin kullanılır\n",
        "#Sayısal veriler tahmin edilir\n",
        "#Tahmin = prediction\n",
        "#Öngörü = Forecasting\n",
        "#Zamana bağlı tahmin yapılıyorsa zaman serisi analizi diye geçiyor\n"
      ],
      "metadata": {
        "id": "2Z2PzgdN7B6v"
      },
      "execution_count": 7,
      "outputs": []
    },
    {
      "cell_type": "code",
      "source": [
        "#model inşası (linear regression)\n",
        "\n",
        "#standardize veri için\n",
        "\n",
        "from sklearn.linear_model import LinearRegression\n",
        "lr = LinearRegression()\n",
        "lr.fit(X_train,Y_train)\n",
        "\n",
        "tahmin = lr.predict(X_test)\n",
        "tahmin"
      ],
      "metadata": {
        "colab": {
          "base_uri": "https://localhost:8080/"
        },
        "id": "_MD_4vH2BkmD",
        "outputId": "b793ef40-eccf-44d7-ebb0-a4f89b5c9ade"
      },
      "execution_count": 8,
      "outputs": [
        {
          "output_type": "execute_result",
          "data": {
            "text/plain": [
              "array([[-1.33324088],\n",
              "       [ 1.05398097],\n",
              "       [-0.65761206],\n",
              "       [-0.70265398],\n",
              "       [ 0.82877136],\n",
              "       [ 0.60356175],\n",
              "       [ 0.82877136],\n",
              "       [-0.70265398],\n",
              "       [-0.29727668],\n",
              "       [ 0.37835214]])"
            ]
          },
          "metadata": {},
          "execution_count": 8
        }
      ]
    },
    {
      "cell_type": "code",
      "source": [
        "#standardize edilmemiş\n",
        "lr = LinearRegression()\n",
        "lr.fit(x_train,y_train)\n",
        "\n",
        "tahmin = lr.predict(x_test)\n",
        "tahmin\n"
      ],
      "metadata": {
        "colab": {
          "base_uri": "https://localhost:8080/"
        },
        "id": "brzxBOpNEDpI",
        "outputId": "7e409858-87a4-492e-e57c-9b5315575672"
      },
      "execution_count": 9,
      "outputs": [
        {
          "output_type": "execute_result",
          "data": {
            "text/plain": [
              "array([[20126.21865404],\n",
              "       [57740.29412655],\n",
              "       [30771.7117123 ],\n",
              "       [30062.01217508],\n",
              "       [54191.79644047],\n",
              "       [50643.29875438],\n",
              "       [54191.79644047],\n",
              "       [30062.01217508],\n",
              "       [36449.30801003],\n",
              "       [47094.80106829]])"
            ]
          },
          "metadata": {},
          "execution_count": 9
        }
      ]
    },
    {
      "cell_type": "code",
      "source": [
        "x_train = x_train.sort_index()\n",
        "y_train = y_train.sort_index()\n",
        "\n",
        "plt.plot(x_train,y_train)\n",
        "plt.plot(x_test,lr.predict(x_test))\n",
        "\n",
        "plt.title(\"aylara göre satış\")\n",
        "plt.xlabel(\"Aylar\")\n",
        "plt.ylabel(\"Satışlar\")\n"
      ],
      "metadata": {
        "colab": {
          "base_uri": "https://localhost:8080/",
          "height": 312
        },
        "id": "sNwi_QXLJM3C",
        "outputId": "4db376fc-d2bb-4ec5-8637-231f4db6d8d4"
      },
      "execution_count": 11,
      "outputs": [
        {
          "output_type": "execute_result",
          "data": {
            "text/plain": [
              "Text(0, 0.5, 'Satışlar')"
            ]
          },
          "metadata": {},
          "execution_count": 11
        },
        {
          "output_type": "display_data",
          "data": {
            "text/plain": [
              "<Figure size 432x288 with 1 Axes>"
            ],
            "image/png": "[encoded data removed]"
          },
          "metadata": {
            "needs_background": "light"
          }
        }
      ]
    }
  ]
}