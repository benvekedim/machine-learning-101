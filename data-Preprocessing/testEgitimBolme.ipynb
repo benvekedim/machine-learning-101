{
  "nbformat": 4,
  "nbformat_minor": 0,
  "metadata": {
    "colab": {
      "name": "testEgitimBolme.ipynb",
      "provenance": [],
      "authorship_tag": "ABX9TyN8ZJ7mTcbkTa1MMA3GMk0J",
      "include_colab_link": true
    },
    "kernelspec": {
      "name": "python3",
      "display_name": "Python 3"
    },
    "language_info": {
      "name": "python"
    }
  },
  "cells": [
    {
      "cell_type": "markdown",
      "metadata": {
        "id": "view-in-github",
        "colab_type": "text"
      },
      "source": [
        "<a href=\"https://colab.research.google.com/github/benvekedim/machine-learning-101/blob/main/data-Preprocessing/testEgitimBolme.ipynb\" target=\"_parent\"><img src=\"https://colab.research.google.com/assets/colab-badge.svg\" alt=\"Open In Colab\"/></a>"
      ]
    },
    {
      "cell_type": "code",
      "execution_count": null,
      "metadata": {
        "colab": {
          "base_uri": "https://localhost:8080/"
        },
        "id": "0nqKexksxA1p",
        "outputId": "1ac319ac-9f84-4db1-93c8-0e51834ff03d"
      },
      "outputs": [
        {
          "output_type": "stream",
          "name": "stdout",
          "text": [
            "    boy\n",
            "0   130\n",
            "1   125\n",
            "2   135\n",
            "3   133\n",
            "4   129\n",
            "5   180\n",
            "6   190\n",
            "7   175\n",
            "8   177\n",
            "9   185\n",
            "10  165\n",
            "11  155\n",
            "12  160\n",
            "13  162\n",
            "14  167\n",
            "15  174\n",
            "16  193\n",
            "17  187\n",
            "18  183\n",
            "19  159\n",
            "20  164\n",
            "21  166\n",
            "    boy  kilo\n",
            "0   130    30\n",
            "1   125    36\n",
            "2   135    34\n",
            "3   133    30\n",
            "4   129    38\n",
            "5   180    90\n",
            "6   190    80\n",
            "7   175    90\n",
            "8   177    60\n",
            "9   185   105\n",
            "10  165    55\n",
            "11  155    50\n",
            "12  160    58\n",
            "13  162    59\n",
            "14  167    62\n",
            "15  174    70\n",
            "16  193    90\n",
            "17  187    80\n",
            "18  183    88\n",
            "19  159    40\n",
            "20  164    66\n",
            "21  166    56\n"
          ]
        }
      ],
      "source": [
        "#kutuphaneler\n",
        "import numpy as np\n",
        "import matplotlib.pyplot as plt\n",
        "import pandas as pd\n",
        "\n",
        "#veri yukleme\n",
        "veriler = pd.read_csv('https://bilkav.com/eksikveriler.csv')\n",
        "#veriler\n",
        "\n",
        "#veri on isleme\n",
        "\n",
        "boy = veriler[['boy']]\n",
        "print(boy)\n",
        "\n",
        "boykilo = veriler[['boy','kilo']]\n",
        "print(boykilo)\n",
        "\n",
        "\n"
      ]
    },
    {
      "cell_type": "code",
      "source": [
        "veriler.head()"
      ],
      "metadata": {
        "colab": {
          "base_uri": "https://localhost:8080/",
          "height": 206
        },
        "id": "Ljch2VtnxPQz",
        "outputId": "d624ce55-dd8d-4ed8-a82a-5f1cd30677db"
      },
      "execution_count": null,
      "outputs": [
        {
          "output_type": "execute_result",
          "data": {
            "text/plain": [
              "  ulke  boy  kilo   yas cinsiyet\n",
              "0   tr  130    30  10.0        e\n",
              "1   tr  125    36  11.0        e\n",
              "2   tr  135    34  10.0        k\n",
              "3   tr  133    30   9.0        k\n",
              "4   tr  129    38  12.0        e"
            ],
            "text/html": [
              "\n",
              "  <div id=\"df-bd2fc73a-d890-4ab1-96ae-56d181761e3c\">\n",
              "    <div class=\"colab-df-container\">\n",
              "      <div>\n",
              "<style scoped>\n",
              "    .dataframe tbody tr th:only-of-type {\n",
              "        vertical-align: middle;\n",
              "    }\n",
              "\n",
              "    .dataframe tbody tr th {\n",
              "        vertical-align: top;\n",
              "    }\n",
              "\n",
              "    .dataframe thead th {\n",
              "        text-align: right;\n",
              "    }\n",
              "</style>\n",
              "<table border=\"1\" class=\"dataframe\">\n",
              "  <thead>\n",
              "    <tr style=\"text-align: right;\">\n",
              "      <th></th>\n",
              "      <th>ulke</th>\n",
              "      <th>boy</th>\n",
              "      <th>kilo</th>\n",
              "      <th>yas</th>\n",
              "      <th>cinsiyet</th>\n",
              "    </tr>\n",
              "  </thead>\n",
              "  <tbody>\n",
              "    <tr>\n",
              "      <th>0</th>\n",
              "      <td>tr</td>\n",
              "      <td>130</td>\n",
              "      <td>30</td>\n",
              "      <td>10.0</td>\n",
              "      <td>e</td>\n",
              "    </tr>\n",
              "    <tr>\n",
              "      <th>1</th>\n",
              "      <td>tr</td>\n",
              "      <td>125</td>\n",
              "      <td>36</td>\n",
              "      <td>11.0</td>\n",
              "      <td>e</td>\n",
              "    </tr>\n",
              "    <tr>\n",
              "      <th>2</th>\n",
              "      <td>tr</td>\n",
              "      <td>135</td>\n",
              "      <td>34</td>\n",
              "      <td>10.0</td>\n",
              "      <td>k</td>\n",
              "    </tr>\n",
              "    <tr>\n",
              "      <th>3</th>\n",
              "      <td>tr</td>\n",
              "      <td>133</td>\n",
              "      <td>30</td>\n",
              "      <td>9.0</td>\n",
              "      <td>k</td>\n",
              "    </tr>\n",
              "    <tr>\n",
              "      <th>4</th>\n",
              "      <td>tr</td>\n",
              "      <td>129</td>\n",
              "      <td>38</td>\n",
              "      <td>12.0</td>\n",
              "      <td>e</td>\n",
              "    </tr>\n",
              "  </tbody>\n",
              "</table>\n",
              "</div>\n",
              "      <button class=\"colab-df-convert\" onclick=\"convertToInteractive('df-bd2fc73a-d890-4ab1-96ae-56d181761e3c')\"\n",
              "              title=\"Convert this dataframe to an interactive table.\"\n",
              "              style=\"display:none;\">\n",
              "        \n",
              "  <svg xmlns=\"http://www.w3.org/2000/svg\" height=\"24px\"viewBox=\"0 0 24 24\"\n",
              "       width=\"24px\">\n",
              "    <path d=\"M0 0h24v24H0V0z\" fill=\"none\"/>\n",
              "    <path d=\"M18.56 5.44l.94 2.06.94-2.06 2.06-.94-2.06-.94-.94-2.06-.94 2.06-2.06.94zm-11 1L8.5 8.5l.94-2.06 2.06-.94-2.06-.94L8.5 2.5l-.94 2.06-2.06.94zm10 10l.94 2.06.94-2.06 2.06-.94-2.06-.94-.94-2.06-.94 2.06-2.06.94z\"/><path d=\"M17.41 7.96l-1.37-1.37c-.4-.4-.92-.59-1.43-.59-.52 0-1.04.2-1.43.59L10.3 9.45l-7.72 7.72c-.78.78-.78 2.05 0 2.83L4 21.41c.39.39.9.59 1.41.59.51 0 1.02-.2 1.41-.59l7.78-7.78 2.81-2.81c.8-.78.8-2.07 0-2.86zM5.41 20L4 18.59l7.72-7.72 1.47 1.35L5.41 20z\"/>\n",
              "  </svg>\n",
              "      </button>\n",
              "      \n",
              "  <style>\n",
              "    .colab-df-container {\n",
              "      display:flex;\n",
              "      flex-wrap:wrap;\n",
              "      gap: 12px;\n",
              "    }\n",
              "\n",
              "    .colab-df-convert {\n",
              "      background-color: #E8F0FE;\n",
              "      border: none;\n",
              "      border-radius: 50%;\n",
              "      cursor: pointer;\n",
              "      display: none;\n",
              "      fill: #1967D2;\n",
              "      height: 32px;\n",
              "      padding: 0 0 0 0;\n",
              "      width: 32px;\n",
              "    }\n",
              "\n",
              "    .colab-df-convert:hover {\n",
              "      background-color: #E2EBFA;\n",
              "      box-shadow: 0px 1px 2px rgba(60, 64, 67, 0.3), 0px 1px 3px 1px rgba(60, 64, 67, 0.15);\n",
              "      fill: #174EA6;\n",
              "    }\n",
              "\n",
              "    [theme=dark] .colab-df-convert {\n",
              "      background-color: #3B4455;\n",
              "      fill: #D2E3FC;\n",
              "    }\n",
              "\n",
              "    [theme=dark] .colab-df-convert:hover {\n",
              "      background-color: #434B5C;\n",
              "      box-shadow: 0px 1px 3px 1px rgba(0, 0, 0, 0.15);\n",
              "      filter: drop-shadow(0px 1px 2px rgba(0, 0, 0, 0.3));\n",
              "      fill: #FFFFFF;\n",
              "    }\n",
              "  </style>\n",
              "\n",
              "      <script>\n",
              "        const buttonEl =\n",
              "          document.querySelector('#df-bd2fc73a-d890-4ab1-96ae-56d181761e3c button.colab-df-convert');\n",
              "        buttonEl.style.display =\n",
              "          google.colab.kernel.accessAllowed ? 'block' : 'none';\n",
              "\n",
              "        async function convertToInteractive(key) {\n",
              "          const element = document.querySelector('#df-bd2fc73a-d890-4ab1-96ae-56d181761e3c');\n",
              "          const dataTable =\n",
              "            await google.colab.kernel.invokeFunction('convertToInteractive',\n",
              "                                                     [key], {});\n",
              "          if (!dataTable) return;\n",
              "\n",
              "          const docLinkHtml = 'Like what you see? Visit the ' +\n",
              "            '<a target=\"_blank\" href=https://colab.research.google.com/notebooks/data_table.ipynb>data table notebook</a>'\n",
              "            + ' to learn more about interactive tables.';\n",
              "          element.innerHTML = '';\n",
              "          dataTable['output_type'] = 'display_data';\n",
              "          await google.colab.output.renderOutput(dataTable, element);\n",
              "          const docLink = document.createElement('div');\n",
              "          docLink.innerHTML = docLinkHtml;\n",
              "          element.appendChild(docLink);\n",
              "        }\n",
              "      </script>\n",
              "    </div>\n",
              "  </div>\n",
              "  "
            ]
          },
          "metadata": {},
          "execution_count": 3
        }
      ]
    },
    {
      "cell_type": "code",
      "source": [
        "class insan:\n",
        "    boy = 180\n",
        "    def kosmak(self,b):\n",
        "        return b + 10\n",
        "\n",
        "ali = insan()\n",
        "print(ali.boy)\n",
        "print(ali.kosmak(90))"
      ],
      "metadata": {
        "colab": {
          "base_uri": "https://localhost:8080/"
        },
        "id": "TJqx3UcwxQ55",
        "outputId": "93c4b614-169e-49cd-b329-4a47f0577e18"
      },
      "execution_count": null,
      "outputs": [
        {
          "output_type": "stream",
          "name": "stdout",
          "text": [
            "180\n",
            "100\n"
          ]
        }
      ]
    },
    {
      "cell_type": "code",
      "source": [
        "from sklearn.impute import SimpleImputer\n",
        "imputer = SimpleImputer(missing_values=np.nan, strategy='mean')\n",
        "Yas = veriler.iloc[:,1:4].values\n",
        "print(Yas)"
      ],
      "metadata": {
        "colab": {
          "base_uri": "https://localhost:8080/"
        },
        "id": "5ZUzByw8xSqD",
        "outputId": "8e642268-9e91-4928-af0c-e432dd084b07"
      },
      "execution_count": null,
      "outputs": [
        {
          "output_type": "stream",
          "name": "stdout",
          "text": [
            "[[130.  30.  10.]\n",
            " [125.  36.  11.]\n",
            " [135.  34.  10.]\n",
            " [133.  30.   9.]\n",
            " [129.  38.  12.]\n",
            " [180.  90.  30.]\n",
            " [190.  80.  25.]\n",
            " [175.  90.  35.]\n",
            " [177.  60.  22.]\n",
            " [185. 105.  33.]\n",
            " [165.  55.  27.]\n",
            " [155.  50.  44.]\n",
            " [160.  58.  nan]\n",
            " [162.  59.  41.]\n",
            " [167.  62.  55.]\n",
            " [174.  70.  47.]\n",
            " [193.  90.  nan]\n",
            " [187.  80.  27.]\n",
            " [183.  88.  28.]\n",
            " [159.  40.  29.]\n",
            " [164.  66.  32.]\n",
            " [166.  56.  42.]]\n"
          ]
        }
      ]
    },
    {
      "cell_type": "code",
      "source": [
        "imputer = imputer.fit(Yas[:,1:4])\n",
        "Yas[:,1:4] = imputer.transform(Yas[:,1:4])\n",
        "print(Yas)"
      ],
      "metadata": {
        "colab": {
          "base_uri": "https://localhost:8080/"
        },
        "id": "apwKxUZWxUgl",
        "outputId": "bf89d05a-fff0-464d-dde0-2e8da144f7bd"
      },
      "execution_count": null,
      "outputs": [
        {
          "output_type": "stream",
          "name": "stdout",
          "text": [
            "[[130.    30.    10.  ]\n",
            " [125.    36.    11.  ]\n",
            " [135.    34.    10.  ]\n",
            " [133.    30.     9.  ]\n",
            " [129.    38.    12.  ]\n",
            " [180.    90.    30.  ]\n",
            " [190.    80.    25.  ]\n",
            " [175.    90.    35.  ]\n",
            " [177.    60.    22.  ]\n",
            " [185.   105.    33.  ]\n",
            " [165.    55.    27.  ]\n",
            " [155.    50.    44.  ]\n",
            " [160.    58.    28.45]\n",
            " [162.    59.    41.  ]\n",
            " [167.    62.    55.  ]\n",
            " [174.    70.    47.  ]\n",
            " [193.    90.    28.45]\n",
            " [187.    80.    27.  ]\n",
            " [183.    88.    28.  ]\n",
            " [159.    40.    29.  ]\n",
            " [164.    66.    32.  ]\n",
            " [166.    56.    42.  ]]\n"
          ]
        }
      ]
    },
    {
      "cell_type": "code",
      "source": [
        "ulke = veriler.iloc[:,0:1].values\n",
        "print(ulke)"
      ],
      "metadata": {
        "colab": {
          "base_uri": "https://localhost:8080/"
        },
        "id": "rZHzOnJVxYLu",
        "outputId": "3cf3d92d-6eb4-43ef-91e3-7ca5cc4784f1"
      },
      "execution_count": null,
      "outputs": [
        {
          "output_type": "stream",
          "name": "stdout",
          "text": [
            "[['tr']\n",
            " ['tr']\n",
            " ['tr']\n",
            " ['tr']\n",
            " ['tr']\n",
            " ['tr']\n",
            " ['tr']\n",
            " ['tr']\n",
            " ['tr']\n",
            " ['us']\n",
            " ['us']\n",
            " ['us']\n",
            " ['us']\n",
            " ['us']\n",
            " ['us']\n",
            " ['fr']\n",
            " ['fr']\n",
            " ['fr']\n",
            " ['fr']\n",
            " ['fr']\n",
            " ['fr']\n",
            " ['fr']]\n"
          ]
        }
      ]
    },
    {
      "cell_type": "code",
      "source": [
        "from sklearn import preprocessing\n",
        "\n",
        "le = preprocessing.LabelEncoder()\n",
        "\n",
        "ulke[:,0] = le.fit_transform(veriler.iloc[:,0])\n",
        "\n",
        "print(ulke)"
      ],
      "metadata": {
        "colab": {
          "base_uri": "https://localhost:8080/"
        },
        "id": "wFIb9E7sxr6z",
        "outputId": "8c3fa09d-c1fe-49c3-b0e1-ca650e1790ff"
      },
      "execution_count": null,
      "outputs": [
        {
          "output_type": "stream",
          "name": "stdout",
          "text": [
            "[[1]\n",
            " [1]\n",
            " [1]\n",
            " [1]\n",
            " [1]\n",
            " [1]\n",
            " [1]\n",
            " [1]\n",
            " [1]\n",
            " [2]\n",
            " [2]\n",
            " [2]\n",
            " [2]\n",
            " [2]\n",
            " [2]\n",
            " [0]\n",
            " [0]\n",
            " [0]\n",
            " [0]\n",
            " [0]\n",
            " [0]\n",
            " [0]]\n"
          ]
        }
      ]
    },
    {
      "cell_type": "code",
      "source": [
        "ohe = preprocessing.OneHotEncoder()\n",
        "ulke = ohe.fit_transform(ulke).toarray()\n",
        "print(ulke)"
      ],
      "metadata": {
        "colab": {
          "base_uri": "https://localhost:8080/"
        },
        "id": "4qMU2QLHxv8p",
        "outputId": "73b6cff6-d58e-48fd-939c-4a8e4257b6d9"
      },
      "execution_count": null,
      "outputs": [
        {
          "output_type": "stream",
          "name": "stdout",
          "text": [
            "[[0. 1. 0.]\n",
            " [0. 1. 0.]\n",
            " [0. 1. 0.]\n",
            " [0. 1. 0.]\n",
            " [0. 1. 0.]\n",
            " [0. 1. 0.]\n",
            " [0. 1. 0.]\n",
            " [0. 1. 0.]\n",
            " [0. 1. 0.]\n",
            " [0. 0. 1.]\n",
            " [0. 0. 1.]\n",
            " [0. 0. 1.]\n",
            " [0. 0. 1.]\n",
            " [0. 0. 1.]\n",
            " [0. 0. 1.]\n",
            " [1. 0. 0.]\n",
            " [1. 0. 0.]\n",
            " [1. 0. 0.]\n",
            " [1. 0. 0.]\n",
            " [1. 0. 0.]\n",
            " [1. 0. 0.]\n",
            " [1. 0. 0.]]\n"
          ]
        }
      ]
    },
    {
      "cell_type": "code",
      "source": [
        "print(list(range(22)))\n",
        "sonuc = pd.DataFrame(data=ulke, index = range(22), columns = ['fr','tr','us'])\n",
        "print(sonuc)"
      ],
      "metadata": {
        "colab": {
          "base_uri": "https://localhost:8080/"
        },
        "id": "k_-2fBu30cSz",
        "outputId": "1564c6df-4191-4f93-eb9b-de676d946bf5"
      },
      "execution_count": null,
      "outputs": [
        {
          "output_type": "stream",
          "name": "stdout",
          "text": [
            "[0, 1, 2, 3, 4, 5, 6, 7, 8, 9, 10, 11, 12, 13, 14, 15, 16, 17, 18, 19, 20, 21]\n",
            "     fr   tr   us\n",
            "0   0.0  1.0  0.0\n",
            "1   0.0  1.0  0.0\n",
            "2   0.0  1.0  0.0\n",
            "3   0.0  1.0  0.0\n",
            "4   0.0  1.0  0.0\n",
            "5   0.0  1.0  0.0\n",
            "6   0.0  1.0  0.0\n",
            "7   0.0  1.0  0.0\n",
            "8   0.0  1.0  0.0\n",
            "9   0.0  0.0  1.0\n",
            "10  0.0  0.0  1.0\n",
            "11  0.0  0.0  1.0\n",
            "12  0.0  0.0  1.0\n",
            "13  0.0  0.0  1.0\n",
            "14  0.0  0.0  1.0\n",
            "15  1.0  0.0  0.0\n",
            "16  1.0  0.0  0.0\n",
            "17  1.0  0.0  0.0\n",
            "18  1.0  0.0  0.0\n",
            "19  1.0  0.0  0.0\n",
            "20  1.0  0.0  0.0\n",
            "21  1.0  0.0  0.0\n"
          ]
        }
      ]
    },
    {
      "cell_type": "code",
      "source": [
        "sonuc2 = pd.DataFrame(data=Yas, index = range(22), columns = ['boy','kilo','yas'])\n",
        "print(sonuc2)"
      ],
      "metadata": {
        "colab": {
          "base_uri": "https://localhost:8080/"
        },
        "id": "VQoMiH60004a",
        "outputId": "e6ef3e89-b5fa-43a0-907a-30e7e6dbab43"
      },
      "execution_count": null,
      "outputs": [
        {
          "output_type": "stream",
          "name": "stdout",
          "text": [
            "      boy   kilo    yas\n",
            "0   130.0   30.0  10.00\n",
            "1   125.0   36.0  11.00\n",
            "2   135.0   34.0  10.00\n",
            "3   133.0   30.0   9.00\n",
            "4   129.0   38.0  12.00\n",
            "5   180.0   90.0  30.00\n",
            "6   190.0   80.0  25.00\n",
            "7   175.0   90.0  35.00\n",
            "8   177.0   60.0  22.00\n",
            "9   185.0  105.0  33.00\n",
            "10  165.0   55.0  27.00\n",
            "11  155.0   50.0  44.00\n",
            "12  160.0   58.0  28.45\n",
            "13  162.0   59.0  41.00\n",
            "14  167.0   62.0  55.00\n",
            "15  174.0   70.0  47.00\n",
            "16  193.0   90.0  28.45\n",
            "17  187.0   80.0  27.00\n",
            "18  183.0   88.0  28.00\n",
            "19  159.0   40.0  29.00\n",
            "20  164.0   66.0  32.00\n",
            "21  166.0   56.0  42.00\n"
          ]
        }
      ]
    },
    {
      "cell_type": "code",
      "source": [
        "cinsiyet = veriler.iloc[:,-1].values\n",
        "print(cinsiyet)"
      ],
      "metadata": {
        "colab": {
          "base_uri": "https://localhost:8080/"
        },
        "id": "9WvIUkkH1PLp",
        "outputId": "c6b6a12e-5b1b-4cf5-90a1-f4285bc3b316"
      },
      "execution_count": null,
      "outputs": [
        {
          "output_type": "stream",
          "name": "stdout",
          "text": [
            "['e' 'e' 'k' 'k' 'e' 'e' 'e' 'e' 'k' 'e' 'k' 'k' 'k' 'k' 'k' 'e' 'e' 'e'\n",
            " 'e' 'k' 'k' 'k']\n"
          ]
        }
      ]
    },
    {
      "cell_type": "code",
      "source": [
        "sonuc3 = pd.DataFrame(data = cinsiyet, index = range(22), columns = ['cinsiyet'])\n",
        "print(sonuc3)"
      ],
      "metadata": {
        "colab": {
          "base_uri": "https://localhost:8080/"
        },
        "id": "_gwJDzBX1c4P",
        "outputId": "082ff830-f89c-452b-d617-56888c9a2ef1"
      },
      "execution_count": null,
      "outputs": [
        {
          "output_type": "stream",
          "name": "stdout",
          "text": [
            "   cinsiyet\n",
            "0         e\n",
            "1         e\n",
            "2         k\n",
            "3         k\n",
            "4         e\n",
            "5         e\n",
            "6         e\n",
            "7         e\n",
            "8         k\n",
            "9         e\n",
            "10        k\n",
            "11        k\n",
            "12        k\n",
            "13        k\n",
            "14        k\n",
            "15        e\n",
            "16        e\n",
            "17        e\n",
            "18        e\n",
            "19        k\n",
            "20        k\n",
            "21        k\n"
          ]
        }
      ]
    },
    {
      "cell_type": "code",
      "source": [
        "s=pd.concat([sonuc,sonuc2], axis=1)\n",
        "print(s)"
      ],
      "metadata": {
        "colab": {
          "base_uri": "https://localhost:8080/"
        },
        "id": "YWG22ioP1ePG",
        "outputId": "6c227466-1769-482c-ef9c-1abab9b39622"
      },
      "execution_count": null,
      "outputs": [
        {
          "output_type": "stream",
          "name": "stdout",
          "text": [
            "     fr   tr   us    boy   kilo    yas\n",
            "0   0.0  1.0  0.0  130.0   30.0  10.00\n",
            "1   0.0  1.0  0.0  125.0   36.0  11.00\n",
            "2   0.0  1.0  0.0  135.0   34.0  10.00\n",
            "3   0.0  1.0  0.0  133.0   30.0   9.00\n",
            "4   0.0  1.0  0.0  129.0   38.0  12.00\n",
            "5   0.0  1.0  0.0  180.0   90.0  30.00\n",
            "6   0.0  1.0  0.0  190.0   80.0  25.00\n",
            "7   0.0  1.0  0.0  175.0   90.0  35.00\n",
            "8   0.0  1.0  0.0  177.0   60.0  22.00\n",
            "9   0.0  0.0  1.0  185.0  105.0  33.00\n",
            "10  0.0  0.0  1.0  165.0   55.0  27.00\n",
            "11  0.0  0.0  1.0  155.0   50.0  44.00\n",
            "12  0.0  0.0  1.0  160.0   58.0  28.45\n",
            "13  0.0  0.0  1.0  162.0   59.0  41.00\n",
            "14  0.0  0.0  1.0  167.0   62.0  55.00\n",
            "15  1.0  0.0  0.0  174.0   70.0  47.00\n",
            "16  1.0  0.0  0.0  193.0   90.0  28.45\n",
            "17  1.0  0.0  0.0  187.0   80.0  27.00\n",
            "18  1.0  0.0  0.0  183.0   88.0  28.00\n",
            "19  1.0  0.0  0.0  159.0   40.0  29.00\n",
            "20  1.0  0.0  0.0  164.0   66.0  32.00\n",
            "21  1.0  0.0  0.0  166.0   56.0  42.00\n"
          ]
        }
      ]
    },
    {
      "cell_type": "code",
      "source": [
        "s2=pd.concat([s,sonuc3], axis=1)\n",
        "print(s2)"
      ],
      "metadata": {
        "colab": {
          "base_uri": "https://localhost:8080/"
        },
        "id": "86_VoTwA1v_X",
        "outputId": "0bb3cb0c-6cf5-4123-a430-7c81cc93990a"
      },
      "execution_count": null,
      "outputs": [
        {
          "output_type": "stream",
          "name": "stdout",
          "text": [
            "     fr   tr   us    boy   kilo    yas cinsiyet\n",
            "0   0.0  1.0  0.0  130.0   30.0  10.00        e\n",
            "1   0.0  1.0  0.0  125.0   36.0  11.00        e\n",
            "2   0.0  1.0  0.0  135.0   34.0  10.00        k\n",
            "3   0.0  1.0  0.0  133.0   30.0   9.00        k\n",
            "4   0.0  1.0  0.0  129.0   38.0  12.00        e\n",
            "5   0.0  1.0  0.0  180.0   90.0  30.00        e\n",
            "6   0.0  1.0  0.0  190.0   80.0  25.00        e\n",
            "7   0.0  1.0  0.0  175.0   90.0  35.00        e\n",
            "8   0.0  1.0  0.0  177.0   60.0  22.00        k\n",
            "9   0.0  0.0  1.0  185.0  105.0  33.00        e\n",
            "10  0.0  0.0  1.0  165.0   55.0  27.00        k\n",
            "11  0.0  0.0  1.0  155.0   50.0  44.00        k\n",
            "12  0.0  0.0  1.0  160.0   58.0  28.45        k\n",
            "13  0.0  0.0  1.0  162.0   59.0  41.00        k\n",
            "14  0.0  0.0  1.0  167.0   62.0  55.00        k\n",
            "15  1.0  0.0  0.0  174.0   70.0  47.00        e\n",
            "16  1.0  0.0  0.0  193.0   90.0  28.45        e\n",
            "17  1.0  0.0  0.0  187.0   80.0  27.00        e\n",
            "18  1.0  0.0  0.0  183.0   88.0  28.00        e\n",
            "19  1.0  0.0  0.0  159.0   40.0  29.00        k\n",
            "20  1.0  0.0  0.0  164.0   66.0  32.00        k\n",
            "21  1.0  0.0  0.0  166.0   56.0  42.00        k\n"
          ]
        }
      ]
    },
    {
      "cell_type": "code",
      "source": [
        "#train, test bölümü verinin satır bazlı bölümü\n",
        "#x , y verinin bağımsız değişken, bağımlı değişken bölünmesi\n",
        "#test_size = 0.33 demek\n",
        "#verinin yüzde 67 train,yüzde 33 test bölünmesi\n",
        "#random_state verinin ne kadar rassal bölüneceği\n",
        "\n",
        "#dikeyde bağımlı bağımsız\n",
        "#yatayda train test diye bölüyoruz\n",
        "\n",
        "from sklearn.model_selection import train_test_split\n",
        "\n",
        "x_train, x_test, y_train, y_test = train_test_split(s,sonuc3,test_size=0.33,random_state=0)\n"
      ],
      "metadata": {
        "id": "7On_b4Av_Xc8"
      },
      "execution_count": null,
      "outputs": []
    }
  ]
}