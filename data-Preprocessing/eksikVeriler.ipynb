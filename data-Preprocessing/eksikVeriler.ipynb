{
  "nbformat": 4,
  "nbformat_minor": 0,
  "metadata": {
    "colab": {
      "name": "eksikVeriler.ipynb",
      "provenance": [],
      "collapsed_sections": [],
      "authorship_tag": "ABX9TyMV9xL71AxzjyuibwMzj+8+",
      "include_colab_link": true
    },
    "kernelspec": {
      "name": "python3",
      "display_name": "Python 3"
    },
    "language_info": {
      "name": "python"
    }
  },
  "cells": [
    {
      "cell_type": "markdown",
      "metadata": {
        "id": "view-in-github",
        "colab_type": "text"
      },
      "source": [
        "<a href=\"https://colab.research.google.com/github/benvekedim/machine-learning-101/blob/main/data-Preprocessing/eksikVeriler.ipynb\" target=\"_parent\"><img src=\"https://colab.research.google.com/assets/colab-badge.svg\" alt=\"Open In Colab\"/></a>"
      ]
    },
    {
      "cell_type": "code",
      "execution_count": null,
      "metadata": {
        "colab": {
          "base_uri": "https://localhost:8080/"
        },
        "id": "4JaCGcnmJs30",
        "outputId": "a1efc13b-eb7f-4d55-ac3e-734dc500708f"
      },
      "outputs": [
        {
          "output_type": "stream",
          "name": "stdout",
          "text": [
            "    boy\n",
            "0   130\n",
            "1   125\n",
            "2   135\n",
            "3   133\n",
            "4   129\n",
            "5   180\n",
            "6   190\n",
            "7   175\n",
            "8   177\n",
            "9   185\n",
            "10  165\n",
            "11  155\n",
            "12  160\n",
            "13  162\n",
            "14  167\n",
            "15  174\n",
            "16  193\n",
            "17  187\n",
            "18  183\n",
            "19  159\n",
            "20  164\n",
            "21  166\n",
            "    boy  kilo\n",
            "0   130    30\n",
            "1   125    36\n",
            "2   135    34\n",
            "3   133    30\n",
            "4   129    38\n",
            "5   180    90\n",
            "6   190    80\n",
            "7   175    90\n",
            "8   177    60\n",
            "9   185   105\n",
            "10  165    55\n",
            "11  155    50\n",
            "12  160    58\n",
            "13  162    59\n",
            "14  167    62\n",
            "15  174    70\n",
            "16  193    90\n",
            "17  187    80\n",
            "18  183    88\n",
            "19  159    40\n",
            "20  164    66\n",
            "21  166    56\n"
          ]
        }
      ],
      "source": [
        "#kutuphaneler\n",
        "import numpy as np\n",
        "import matplotlib.pyplot as plt\n",
        "import pandas as pd\n",
        "\n",
        "#veri yukleme\n",
        "veriler = pd.read_csv('https://bilkav.com/eksikveriler.csv')\n",
        "#veriler\n",
        "\n",
        "#veri on isleme\n",
        "\n",
        "boy = veriler[['boy']]\n",
        "print(boy)\n",
        "\n",
        "boykilo = veriler[['boy','kilo']]\n",
        "print(boykilo)\n",
        "\n",
        "\n"
      ]
    },
    {
      "cell_type": "code",
      "source": [
        "veriler.head()"
      ],
      "metadata": {
        "colab": {
          "base_uri": "https://localhost:8080/",
          "height": 206
        },
        "id": "0LcizLd9K8F5",
        "outputId": "32002b8f-31bf-44a0-d1d6-7cb98f4c4fc5"
      },
      "execution_count": null,
      "outputs": [
        {
          "output_type": "execute_result",
          "data": {
            "text/plain": [
              "  ulke  boy  kilo   yas cinsiyet\n",
              "0   tr  130    30  10.0        e\n",
              "1   tr  125    36  11.0        e\n",
              "2   tr  135    34  10.0        k\n",
              "3   tr  133    30   9.0        k\n",
              "4   tr  129    38  12.0        e"
            ],
            "text/html": [
              "\n",
              "  <div id=\"df-a9ab39e6-8347-493e-8112-44799e5ad816\">\n",
              "    <div class=\"colab-df-container\">\n",
              "      <div>\n",
              "<style scoped>\n",
              "    .dataframe tbody tr th:only-of-type {\n",
              "        vertical-align: middle;\n",
              "    }\n",
              "\n",
              "    .dataframe tbody tr th {\n",
              "        vertical-align: top;\n",
              "    }\n",
              "\n",
              "    .dataframe thead th {\n",
              "        text-align: right;\n",
              "    }\n",
              "</style>\n",
              "<table border=\"1\" class=\"dataframe\">\n",
              "  <thead>\n",
              "    <tr style=\"text-align: right;\">\n",
              "      <th></th>\n",
              "      <th>ulke</th>\n",
              "      <th>boy</th>\n",
              "      <th>kilo</th>\n",
              "      <th>yas</th>\n",
              "      <th>cinsiyet</th>\n",
              "    </tr>\n",
              "  </thead>\n",
              "  <tbody>\n",
              "    <tr>\n",
              "      <th>0</th>\n",
              "      <td>tr</td>\n",
              "      <td>130</td>\n",
              "      <td>30</td>\n",
              "      <td>10.0</td>\n",
              "      <td>e</td>\n",
              "    </tr>\n",
              "    <tr>\n",
              "      <th>1</th>\n",
              "      <td>tr</td>\n",
              "      <td>125</td>\n",
              "      <td>36</td>\n",
              "      <td>11.0</td>\n",
              "      <td>e</td>\n",
              "    </tr>\n",
              "    <tr>\n",
              "      <th>2</th>\n",
              "      <td>tr</td>\n",
              "      <td>135</td>\n",
              "      <td>34</td>\n",
              "      <td>10.0</td>\n",
              "      <td>k</td>\n",
              "    </tr>\n",
              "    <tr>\n",
              "      <th>3</th>\n",
              "      <td>tr</td>\n",
              "      <td>133</td>\n",
              "      <td>30</td>\n",
              "      <td>9.0</td>\n",
              "      <td>k</td>\n",
              "    </tr>\n",
              "    <tr>\n",
              "      <th>4</th>\n",
              "      <td>tr</td>\n",
              "      <td>129</td>\n",
              "      <td>38</td>\n",
              "      <td>12.0</td>\n",
              "      <td>e</td>\n",
              "    </tr>\n",
              "  </tbody>\n",
              "</table>\n",
              "</div>\n",
              "      <button class=\"colab-df-convert\" onclick=\"convertToInteractive('df-a9ab39e6-8347-493e-8112-44799e5ad816')\"\n",
              "              title=\"Convert this dataframe to an interactive table.\"\n",
              "              style=\"display:none;\">\n",
              "        \n",
              "  <svg xmlns=\"http://www.w3.org/2000/svg\" height=\"24px\"viewBox=\"0 0 24 24\"\n",
              "       width=\"24px\">\n",
              "    <path d=\"M0 0h24v24H0V0z\" fill=\"none\"/>\n",
              "    <path d=\"M18.56 5.44l.94 2.06.94-2.06 2.06-.94-2.06-.94-.94-2.06-.94 2.06-2.06.94zm-11 1L8.5 8.5l.94-2.06 2.06-.94-2.06-.94L8.5 2.5l-.94 2.06-2.06.94zm10 10l.94 2.06.94-2.06 2.06-.94-2.06-.94-.94-2.06-.94 2.06-2.06.94z\"/><path d=\"M17.41 7.96l-1.37-1.37c-.4-.4-.92-.59-1.43-.59-.52 0-1.04.2-1.43.59L10.3 9.45l-7.72 7.72c-.78.78-.78 2.05 0 2.83L4 21.41c.39.39.9.59 1.41.59.51 0 1.02-.2 1.41-.59l7.78-7.78 2.81-2.81c.8-.78.8-2.07 0-2.86zM5.41 20L4 18.59l7.72-7.72 1.47 1.35L5.41 20z\"/>\n",
              "  </svg>\n",
              "      </button>\n",
              "      \n",
              "  <style>\n",
              "    .colab-df-container {\n",
              "      display:flex;\n",
              "      flex-wrap:wrap;\n",
              "      gap: 12px;\n",
              "    }\n",
              "\n",
              "    .colab-df-convert {\n",
              "      background-color: #E8F0FE;\n",
              "      border: none;\n",
              "      border-radius: 50%;\n",
              "      cursor: pointer;\n",
              "      display: none;\n",
              "      fill: #1967D2;\n",
              "      height: 32px;\n",
              "      padding: 0 0 0 0;\n",
              "      width: 32px;\n",
              "    }\n",
              "\n",
              "    .colab-df-convert:hover {\n",
              "      background-color: #E2EBFA;\n",
              "      box-shadow: 0px 1px 2px rgba(60, 64, 67, 0.3), 0px 1px 3px 1px rgba(60, 64, 67, 0.15);\n",
              "      fill: #174EA6;\n",
              "    }\n",
              "\n",
              "    [theme=dark] .colab-df-convert {\n",
              "      background-color: #3B4455;\n",
              "      fill: #D2E3FC;\n",
              "    }\n",
              "\n",
              "    [theme=dark] .colab-df-convert:hover {\n",
              "      background-color: #434B5C;\n",
              "      box-shadow: 0px 1px 3px 1px rgba(0, 0, 0, 0.15);\n",
              "      filter: drop-shadow(0px 1px 2px rgba(0, 0, 0, 0.3));\n",
              "      fill: #FFFFFF;\n",
              "    }\n",
              "  </style>\n",
              "\n",
              "      <script>\n",
              "        const buttonEl =\n",
              "          document.querySelector('#df-a9ab39e6-8347-493e-8112-44799e5ad816 button.colab-df-convert');\n",
              "        buttonEl.style.display =\n",
              "          google.colab.kernel.accessAllowed ? 'block' : 'none';\n",
              "\n",
              "        async function convertToInteractive(key) {\n",
              "          const element = document.querySelector('#df-a9ab39e6-8347-493e-8112-44799e5ad816');\n",
              "          const dataTable =\n",
              "            await google.colab.kernel.invokeFunction('convertToInteractive',\n",
              "                                                     [key], {});\n",
              "          if (!dataTable) return;\n",
              "\n",
              "          const docLinkHtml = 'Like what you see? Visit the ' +\n",
              "            '<a target=\"_blank\" href=https://colab.research.google.com/notebooks/data_table.ipynb>data table notebook</a>'\n",
              "            + ' to learn more about interactive tables.';\n",
              "          element.innerHTML = '';\n",
              "          dataTable['output_type'] = 'display_data';\n",
              "          await google.colab.output.renderOutput(dataTable, element);\n",
              "          const docLink = document.createElement('div');\n",
              "          docLink.innerHTML = docLinkHtml;\n",
              "          element.appendChild(docLink);\n",
              "        }\n",
              "      </script>\n",
              "    </div>\n",
              "  </div>\n",
              "  "
            ]
          },
          "metadata": {},
          "execution_count": 11
        }
      ]
    },
    {
      "cell_type": "code",
      "source": [
        "class insan:\n",
        "    boy = 180\n",
        "    def kosmak(self,b):\n",
        "        return b + 10\n",
        "\n",
        "ali = insan()\n",
        "print(ali.boy)\n",
        "print(ali.kosmak(90))"
      ],
      "metadata": {
        "colab": {
          "base_uri": "https://localhost:8080/"
        },
        "id": "_Mrg1f_NKjUI",
        "outputId": "c735cd5e-c8f1-4046-e54f-ab1a93867cac"
      },
      "execution_count": null,
      "outputs": [
        {
          "output_type": "stream",
          "name": "stdout",
          "text": [
            "180\n",
            "100\n"
          ]
        }
      ]
    },
    {
      "cell_type": "code",
      "source": [
        "from sklearn.impute import SimpleImputer\n",
        "imputer = SimpleImputer(missing_values=np.nan, strategy='mean')\n",
        "Yas = veriler.iloc[:,1:4].values\n",
        "print(Yas)"
      ],
      "metadata": {
        "colab": {
          "base_uri": "https://localhost:8080/"
        },
        "id": "VlmeJb1DKwFu",
        "outputId": "2cc628b2-8c13-4f70-b7fd-f86dfea62a63"
      },
      "execution_count": null,
      "outputs": [
        {
          "output_type": "stream",
          "name": "stdout",
          "text": [
            "[[130.  30.  10.]\n",
            " [125.  36.  11.]\n",
            " [135.  34.  10.]\n",
            " [133.  30.   9.]\n",
            " [129.  38.  12.]\n",
            " [180.  90.  30.]\n",
            " [190.  80.  25.]\n",
            " [175.  90.  35.]\n",
            " [177.  60.  22.]\n",
            " [185. 105.  33.]\n",
            " [165.  55.  27.]\n",
            " [155.  50.  44.]\n",
            " [160.  58.  nan]\n",
            " [162.  59.  41.]\n",
            " [167.  62.  55.]\n",
            " [174.  70.  47.]\n",
            " [193.  90.  nan]\n",
            " [187.  80.  27.]\n",
            " [183.  88.  28.]\n",
            " [159.  40.  29.]\n",
            " [164.  66.  32.]\n",
            " [166.  56.  42.]]\n"
          ]
        }
      ]
    },
    {
      "cell_type": "code",
      "source": [
        "imputer = imputer.fit(Yas[:,1:4])\n",
        "Yas[:,1:4] = imputer.transform(Yas[:,1:4])\n",
        "print(Yas)"
      ],
      "metadata": {
        "colab": {
          "base_uri": "https://localhost:8080/"
        },
        "id": "K-Dn1SpCLPq_",
        "outputId": "d7133be4-95be-4aa1-a8f5-c9edaafb9a03"
      },
      "execution_count": null,
      "outputs": [
        {
          "output_type": "stream",
          "name": "stdout",
          "text": [
            "[[130.    30.    10.  ]\n",
            " [125.    36.    11.  ]\n",
            " [135.    34.    10.  ]\n",
            " [133.    30.     9.  ]\n",
            " [129.    38.    12.  ]\n",
            " [180.    90.    30.  ]\n",
            " [190.    80.    25.  ]\n",
            " [175.    90.    35.  ]\n",
            " [177.    60.    22.  ]\n",
            " [185.   105.    33.  ]\n",
            " [165.    55.    27.  ]\n",
            " [155.    50.    44.  ]\n",
            " [160.    58.    28.45]\n",
            " [162.    59.    41.  ]\n",
            " [167.    62.    55.  ]\n",
            " [174.    70.    47.  ]\n",
            " [193.    90.    28.45]\n",
            " [187.    80.    27.  ]\n",
            " [183.    88.    28.  ]\n",
            " [159.    40.    29.  ]\n",
            " [164.    66.    32.  ]\n",
            " [166.    56.    42.  ]]\n"
          ]
        }
      ]
    },
    {
      "cell_type": "code",
      "source": [
        "np.mean(veriler[['yas']])"
      ],
      "metadata": {
        "colab": {
          "base_uri": "https://localhost:8080/"
        },
        "id": "aeexqmj-N3oC",
        "outputId": "b7e0c526-5a86-4e80-fa9b-3363e8bf7444"
      },
      "execution_count": null,
      "outputs": [
        {
          "output_type": "execute_result",
          "data": {
            "text/plain": [
              "yas    28.45\n",
              "dtype: float64"
            ]
          },
          "metadata": {},
          "execution_count": 24
        }
      ]
    },
    {
      "cell_type": "code",
      "source": [
        "#1d dizide nan değerleri ortalamayla değiştirme\n",
        "age = np.array([i[3] for i in np.array(veriler)])\n",
        "age"
      ],
      "metadata": {
        "colab": {
          "base_uri": "https://localhost:8080/"
        },
        "id": "DcKP-t_vb6-X",
        "outputId": "76854445-1886-4c74-ec29-6ccfd936ca5f"
      },
      "execution_count": null,
      "outputs": [
        {
          "output_type": "execute_result",
          "data": {
            "text/plain": [
              "array([10., 11., 10.,  9., 12., 30., 25., 35., 22., 33., 27., 44., nan,\n",
              "       41., 55., 47., nan, 27., 28., 29., 32., 42.])"
            ]
          },
          "metadata": {},
          "execution_count": 135
        }
      ]
    },
    {
      "cell_type": "code",
      "source": [
        "col_mean = np.nanmean(age,axis=0)\n",
        "col_mean"
      ],
      "metadata": {
        "colab": {
          "base_uri": "https://localhost:8080/"
        },
        "id": "t7WEjpsJbO8e",
        "outputId": "be3e713c-49cf-480f-edd1-d03317fbc709"
      },
      "execution_count": null,
      "outputs": [
        {
          "output_type": "execute_result",
          "data": {
            "text/plain": [
              "28.45"
            ]
          },
          "metadata": {},
          "execution_count": 136
        }
      ]
    },
    {
      "cell_type": "code",
      "source": [
        "inds = np.argwhere(np.isnan(age))\n",
        "inds"
      ],
      "metadata": {
        "colab": {
          "base_uri": "https://localhost:8080/"
        },
        "id": "o5Hcr9NVbZ10",
        "outputId": "60cff6cb-0814-40eb-98f1-6453a0a4ba0e"
      },
      "execution_count": null,
      "outputs": [
        {
          "output_type": "execute_result",
          "data": {
            "text/plain": [
              "array([[12],\n",
              "       [16]])"
            ]
          },
          "metadata": {},
          "execution_count": 141
        }
      ]
    },
    {
      "cell_type": "code",
      "source": [
        "age[inds] = col_mean\n",
        "age"
      ],
      "metadata": {
        "colab": {
          "base_uri": "https://localhost:8080/"
        },
        "id": "-WAfa8Vwbo_T",
        "outputId": "bd90d3e2-40e0-4eec-f0ff-df7cb4c3c940"
      },
      "execution_count": null,
      "outputs": [
        {
          "output_type": "execute_result",
          "data": {
            "text/plain": [
              "array([10.  , 11.  , 10.  ,  9.  , 12.  , 30.  , 25.  , 35.  , 22.  ,\n",
              "       33.  , 27.  , 44.  , 28.45, 41.  , 55.  , 47.  , 28.45, 27.  ,\n",
              "       28.  , 29.  , 32.  , 42.  ])"
            ]
          },
          "metadata": {},
          "execution_count": 144
        }
      ]
    }
  ]
}