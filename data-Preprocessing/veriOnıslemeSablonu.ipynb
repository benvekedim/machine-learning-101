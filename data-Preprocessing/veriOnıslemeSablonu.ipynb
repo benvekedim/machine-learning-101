{
  "nbformat": 4,
  "nbformat_minor": 0,
  "metadata": {
    "colab": {
      "name": "veriOnıslemeSablonu.ipynb",
      "provenance": [],
      "authorship_tag": "ABX9TyOo6jdoA41XawDC7ThphSKi",
      "include_colab_link": true
    },
    "kernelspec": {
      "name": "python3",
      "display_name": "Python 3"
    },
    "language_info": {
      "name": "python"
    }
  },
  "cells": [
    {
      "cell_type": "markdown",
      "metadata": {
        "id": "view-in-github",
        "colab_type": "text"
      },
      "source": [
        "<a href=\"https://colab.research.google.com/github/benvekedim/machine-learning-101/blob/main/data-Preprocessing/veriOn%C4%B1slemeSablonu.ipynb\" target=\"_parent\"><img src=\"https://colab.research.google.com/assets/colab-badge.svg\" alt=\"Open In Colab\"/></a>"
      ]
    },
    {
      "cell_type": "code",
      "execution_count": null,
      "metadata": {
        "colab": {
          "base_uri": "https://localhost:8080/"
        },
        "id": "0nqKexksxA1p",
        "outputId": "c495b184-acdd-454e-99f4-64e9527911c4"
      },
      "outputs": [
        {
          "output_type": "stream",
          "name": "stdout",
          "text": [
            "   ulke  boy  kilo   yas cinsiyet\n",
            "0    tr  130    30  10.0        e\n",
            "1    tr  125    36  11.0        e\n",
            "2    tr  135    34  10.0        k\n",
            "3    tr  133    30   9.0        k\n",
            "4    tr  129    38  12.0        e\n",
            "5    tr  180    90  30.0        e\n",
            "6    tr  190    80  25.0        e\n",
            "7    tr  175    90  35.0        e\n",
            "8    tr  177    60  22.0        k\n",
            "9    us  185   105  33.0        e\n",
            "10   us  165    55  27.0        k\n",
            "11   us  155    50  44.0        k\n",
            "12   us  160    58   NaN        k\n",
            "13   us  162    59  41.0        k\n",
            "14   us  167    62  55.0        k\n",
            "15   fr  174    70  47.0        e\n",
            "16   fr  193    90   NaN        e\n",
            "17   fr  187    80  27.0        e\n",
            "18   fr  183    88  28.0        e\n",
            "19   fr  159    40  29.0        k\n",
            "20   fr  164    66  32.0        k\n",
            "21   fr  166    56  42.0        k\n"
          ]
        }
      ],
      "source": [
        "#1.kutuphaneler\n",
        "import numpy as np\n",
        "import matplotlib.pyplot as plt\n",
        "import pandas as pd\n",
        "\n",
        "#2.veri onisleme\n",
        "#veri yukleme\n",
        "veriler = pd.read_csv('https://bilkav.com/eksikveriler.csv')\n",
        "#test\n",
        "print(veriler)\n",
        "\n",
        "\n",
        "\n",
        "x = veriler.iloc[:,1:4].values #bağımsız değişkenler\n",
        "y = veriler.iloc[:4:].values #bağımlı değişken\n",
        "\n",
        "\n"
      ]
    },
    {
      "cell_type": "code",
      "source": [
        "#train, test bölümü verinin satır bazlı bölümü\n",
        "#x , y verinin bağımsız değişken, bağımlı değişken bölünmesi\n",
        "#test_size = 0.33 demek\n",
        "#verinin yüzde 67 train,yüzde 33 test bölünmesi\n",
        "#random_state verinin ne kadar rassal bölüneceği\n",
        "\n",
        "#dikeyde bağımlı bağımsız\n",
        "#yatayda train test diye bölüyoruz\n",
        "\n",
        "#verilerin egitim ve test icin bolunmesi\n",
        "\n",
        "from sklearn.model_selection import train_test_split\n",
        "\n",
        "x_train, x_test, y_train, y_test = train_test_split(s,sonuc3,test_size=0.33,random_state=0)\n"
      ],
      "metadata": {
        "id": "7On_b4Av_Xc8"
      },
      "execution_count": null,
      "outputs": []
    },
    {
      "cell_type": "code",
      "source": [
        "#verinin olceklenmesi\n",
        "#outlier veri için standartlaştırma daha iyi\n",
        "\n",
        "from sklearn.preprocessing import StandardScaler\n",
        "\n",
        "sc = StandardScaler()\n",
        "\n",
        "X_train = sc.fit_transform(x_train)\n",
        "X_test = sc.fit_transform(x_test)"
      ],
      "metadata": {
        "id": "alj9ush7DUdq"
      },
      "execution_count": null,
      "outputs": []
    },
    {
      "cell_type": "code",
      "source": [
        "from sklearn.linear_model import LogisticRegression\n",
        "logr = LogisticRegression(random_state=0)\n",
        "logr.fit(X_train,y_train)"
      ],
      "metadata": {
        "colab": {
          "base_uri": "https://localhost:8080/"
        },
        "id": "irhE-N_9GOdE",
        "outputId": "0f512f41-b428-4574-ad3e-f80af7a6c730"
      },
      "execution_count": null,
      "outputs": [
        {
          "output_type": "stream",
          "name": "stderr",
          "text": [
            "/usr/local/lib/python3.7/dist-packages/sklearn/utils/validation.py:993: DataConversionWarning: A column-vector y was passed when a 1d array was expected. Please change the shape of y to (n_samples, ), for example using ravel().\n",
            "  y = column_or_1d(y, warn=True)\n"
          ]
        },
        {
          "output_type": "execute_result",
          "data": {
            "text/plain": [
              "LogisticRegression(random_state=0)"
            ]
          },
          "metadata": {},
          "execution_count": 17
        }
      ]
    },
    {
      "cell_type": "code",
      "source": [
        "y_pred = logr.predict(X_test)\n",
        "print(y_pred)\n",
        "print(y_test)"
      ],
      "metadata": {
        "colab": {
          "base_uri": "https://localhost:8080/"
        },
        "id": "nLXmRRk9GhHR",
        "outputId": "fb0bf265-e031-42bf-c129-5e6dbebdd7ee"
      },
      "execution_count": null,
      "outputs": [
        {
          "output_type": "stream",
          "name": "stdout",
          "text": [
            "['e' 'e' 'e' 'e' 'k' 'e' 'e' 'e']\n",
            "   cinsiyet\n",
            "20        k\n",
            "10        k\n",
            "14        k\n",
            "13        k\n",
            "1         e\n",
            "21        k\n",
            "11        k\n",
            "19        k\n"
          ]
        }
      ]
    }
  ]
}