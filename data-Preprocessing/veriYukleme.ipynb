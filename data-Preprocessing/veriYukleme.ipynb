{
  "nbformat": 4,
  "nbformat_minor": 0,
  "metadata": {
    "colab": {
      "name": "veriYukleme.ipynb",
      "provenance": [],
      "collapsed_sections": [],
      "authorship_tag": "ABX9TyNytUJ8IvtfqxxUbL8J+qrV",
      "include_colab_link": true
    },
    "kernelspec": {
      "name": "python3",
      "display_name": "Python 3"
    },
    "language_info": {
      "name": "python"
    }
  },
  "cells": [
    {
      "cell_type": "markdown",
      "metadata": {
        "id": "view-in-github",
        "colab_type": "text"
      },
      "source": [
        "<a href=\"https://colab.research.google.com/github/benvekedim/machine-learning-101/blob/main/data-Preprocessing/veriYukleme.ipynb\" target=\"_parent\"><img src=\"https://colab.research.google.com/assets/colab-badge.svg\" alt=\"Open In Colab\"/></a>"
      ]
    },
    {
      "cell_type": "code",
      "execution_count": null,
      "metadata": {
        "colab": {
          "base_uri": "https://localhost:8080/"
        },
        "id": "roBGXZ1NDXg5",
        "outputId": "12563994-93bf-4849-be7d-62b13289181e"
      },
      "outputs": [
        {
          "output_type": "stream",
          "name": "stdout",
          "text": [
            "    boy\n",
            "0   130\n",
            "1   125\n",
            "2   135\n",
            "3   133\n",
            "4   129\n",
            "5   180\n",
            "6   190\n",
            "7   175\n",
            "8   177\n",
            "9   185\n",
            "10  165\n",
            "11  155\n",
            "12  160\n",
            "13  162\n",
            "14  167\n",
            "15  174\n",
            "16  193\n",
            "17  187\n",
            "18  183\n",
            "19  159\n",
            "20  164\n",
            "21  166\n",
            "    boy  kilo\n",
            "0   130    30\n",
            "1   125    36\n",
            "2   135    34\n",
            "3   133    30\n",
            "4   129    38\n",
            "5   180    90\n",
            "6   190    80\n",
            "7   175    90\n",
            "8   177    60\n",
            "9   185   105\n",
            "10  165    55\n",
            "11  155    50\n",
            "12  160    58\n",
            "13  162    59\n",
            "14  167    62\n",
            "15  174    70\n",
            "16  193    90\n",
            "17  187    80\n",
            "18  183    88\n",
            "19  159    40\n",
            "20  164    66\n",
            "21  166    56\n"
          ]
        }
      ],
      "source": [
        "\n",
        "#Kütüphaneler\n",
        "\n",
        "#sayısal işlemler için\n",
        "import numpy as np\n",
        "#veri görselleştirme için\n",
        "import matplotlib.pyplot as plt\n",
        "#DataFrame'de işlem yapmak için\n",
        "import pandas as pd\n",
        "\n",
        "#veriyi okuma\n",
        "veri = pd.read_csv('https://bilkav.com/veriler.csv')\n",
        "\n",
        "#veri'nin boy kolonunu aldık\n",
        "boy = veri[['boy']]\n",
        "print(boy)\n",
        "\n",
        "\n",
        "#boy ve kilo kolonunu aldık\n",
        "boykilo = veri[['boy','kilo']]\n",
        "print(boykilo)"
      ]
    }
  ]
}